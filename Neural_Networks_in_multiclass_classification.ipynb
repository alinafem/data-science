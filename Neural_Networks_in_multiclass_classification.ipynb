{
  "cells": [
    {
      "cell_type": "code",
      "execution_count": 1,
      "metadata": {
        "id": "qfqhQag3ibRk"
      },
      "outputs": [],
      "source": [
        "import numpy as np #importing numpy as np\n",
        "import pandas #importing pandas\n",
        "import tensorflow as tf #importing tensorflow library\n",
        "from tensorflow.keras import Sequential #importing sequential from keras in tensorflow\n",
        "from tensorflow.keras.layers import Dense#importing dense from keras in tensorflow\n",
        "from tensorflow.keras import metrics  #importing metrics from keras in tensorflow\n",
        "from sklearn.preprocessing import StandardScaler #importing standardscaler from preprocessing in sklearn\n",
        "from sklearn.model_selection import train_test_split#importing train_text_split from model selection in sklearn\n",
        "#importing confusion matrix, accuracy score from metrics in sklearn\n",
        "from sklearn.metrics import confusion_matrix, accuracy_score\n",
        "from keras.utils import np_utils #importing np_utils from utils in keras \n",
        "import matplotlib.pyplot as plt #importing matplotlib for the plots\n"
      ]
    },
    {
      "cell_type": "code",
      "execution_count": 2,
      "metadata": {
        "id": "rXmlZEuPGitQ"
      },
      "outputs": [],
      "source": [
        "#loading dataset\n",
        "data= pandas.read_csv(\"https://drive.google.com/uc?id=1PzJA23lUSlf2x1DeF_ek1YSAj-RFHWCp\")"
      ]
    },
    {
      "cell_type": "code",
      "execution_count": 3,
      "metadata": {
        "colab": {
          "base_uri": "https://localhost:8080/",
          "height": 394
        },
        "id": "K5f8kPWjkqyx",
        "outputId": "58cd5431-e70f-48d3-ac6a-c720ecc5021c"
      },
      "outputs": [
        {
          "output_type": "execute_result",
          "data": {
            "text/plain": [
              "                 1            2            3            4            5  \\\n",
              "count  5474.000000  5474.000000  5474.000000  5474.000000  5474.000000   \n",
              "mean      0.325149     0.250856     0.484763     0.157566     0.064476   \n",
              "std       0.204522     0.243939     0.149252     0.150190     0.101864   \n",
              "min      -0.500320    -0.436028    -0.472676    -0.447495    -0.313397   \n",
              "25%       0.174858     0.096745     0.418656     0.106469    -0.001002   \n",
              "50%       0.304040     0.210390     0.520782     0.180817     0.046851   \n",
              "75%       0.451091     0.337773     0.575542     0.238215     0.107995   \n",
              "max       1.000000     1.000000     1.000000     0.752246     0.846513   \n",
              "\n",
              "                 6            7            8            9           10  ...  \\\n",
              "count  5474.000000  5474.000000  5474.000000  5474.000000  5474.000000  ...   \n",
              "mean     -0.034676     0.027441     0.158756     0.044486    -0.144606  ...   \n",
              "std       0.171234     0.100768     0.186429     0.131958     0.196909  ...   \n",
              "min      -0.538982    -0.576506    -0.513460    -0.518323    -0.901989  ...   \n",
              "25%      -0.140004    -0.018584     0.125626    -0.014899    -0.288113  ...   \n",
              "50%      -0.089144     0.034649     0.227751     0.045297    -0.214559  ...   \n",
              "75%       0.003196     0.086519     0.279041     0.112402    -0.033826  ...   \n",
              "max       0.696887     0.551762     0.642738     0.522768     0.523033  ...   \n",
              "\n",
              "                13           14           15           16           17  \\\n",
              "count  5474.000000  5474.000000  5474.000000  5474.000000  5474.000000   \n",
              "mean     -0.047705    -0.113735     0.047191     0.102357     0.009344   \n",
              "std       0.165983     0.208250     0.130303     0.150444     0.092064   \n",
              "min      -0.565970    -0.717156    -0.498675    -0.421480    -0.759322   \n",
              "25%      -0.155606    -0.275271    -0.025788    -0.011130    -0.052096   \n",
              "50%      -0.072582    -0.201127     0.051501     0.161939     0.014949   \n",
              "75%       0.042184     0.076152     0.126679     0.216912     0.076296   \n",
              "max       0.566873     0.668924     0.548584     0.681157     0.614064   \n",
              "\n",
              "                18           19           20           21       Target  \n",
              "count  5474.000000  5474.000000  5474.000000  5474.000000  5474.000000  \n",
              "mean     -0.067307    -0.071956     0.051448     0.111858     1.884545  \n",
              "std       0.082618     0.094601     0.080394     0.126817     0.989164  \n",
              "min      -0.680745    -0.361649    -0.430812    -0.375461     0.000000  \n",
              "25%      -0.119219    -0.140703    -0.002805     0.022143     2.000000  \n",
              "50%      -0.077523    -0.082641     0.049956     0.160371     2.000000  \n",
              "75%      -0.022659    -0.023184     0.105675     0.207754     2.000000  \n",
              "max       0.388499     0.306126     0.389797     0.432207     4.000000  \n",
              "\n",
              "[8 rows x 22 columns]"
            ],
            "text/html": [
              "\n",
              "  <div id=\"df-b921c4fd-e8a3-4a84-ae69-379482b9bd38\">\n",
              "    <div class=\"colab-df-container\">\n",
              "      <div>\n",
              "<style scoped>\n",
              "    .dataframe tbody tr th:only-of-type {\n",
              "        vertical-align: middle;\n",
              "    }\n",
              "\n",
              "    .dataframe tbody tr th {\n",
              "        vertical-align: top;\n",
              "    }\n",
              "\n",
              "    .dataframe thead th {\n",
              "        text-align: right;\n",
              "    }\n",
              "</style>\n",
              "<table border=\"1\" class=\"dataframe\">\n",
              "  <thead>\n",
              "    <tr style=\"text-align: right;\">\n",
              "      <th></th>\n",
              "      <th>1</th>\n",
              "      <th>2</th>\n",
              "      <th>3</th>\n",
              "      <th>4</th>\n",
              "      <th>5</th>\n",
              "      <th>6</th>\n",
              "      <th>7</th>\n",
              "      <th>8</th>\n",
              "      <th>9</th>\n",
              "      <th>10</th>\n",
              "      <th>...</th>\n",
              "      <th>13</th>\n",
              "      <th>14</th>\n",
              "      <th>15</th>\n",
              "      <th>16</th>\n",
              "      <th>17</th>\n",
              "      <th>18</th>\n",
              "      <th>19</th>\n",
              "      <th>20</th>\n",
              "      <th>21</th>\n",
              "      <th>Target</th>\n",
              "    </tr>\n",
              "  </thead>\n",
              "  <tbody>\n",
              "    <tr>\n",
              "      <th>count</th>\n",
              "      <td>5474.000000</td>\n",
              "      <td>5474.000000</td>\n",
              "      <td>5474.000000</td>\n",
              "      <td>5474.000000</td>\n",
              "      <td>5474.000000</td>\n",
              "      <td>5474.000000</td>\n",
              "      <td>5474.000000</td>\n",
              "      <td>5474.000000</td>\n",
              "      <td>5474.000000</td>\n",
              "      <td>5474.000000</td>\n",
              "      <td>...</td>\n",
              "      <td>5474.000000</td>\n",
              "      <td>5474.000000</td>\n",
              "      <td>5474.000000</td>\n",
              "      <td>5474.000000</td>\n",
              "      <td>5474.000000</td>\n",
              "      <td>5474.000000</td>\n",
              "      <td>5474.000000</td>\n",
              "      <td>5474.000000</td>\n",
              "      <td>5474.000000</td>\n",
              "      <td>5474.000000</td>\n",
              "    </tr>\n",
              "    <tr>\n",
              "      <th>mean</th>\n",
              "      <td>0.325149</td>\n",
              "      <td>0.250856</td>\n",
              "      <td>0.484763</td>\n",
              "      <td>0.157566</td>\n",
              "      <td>0.064476</td>\n",
              "      <td>-0.034676</td>\n",
              "      <td>0.027441</td>\n",
              "      <td>0.158756</td>\n",
              "      <td>0.044486</td>\n",
              "      <td>-0.144606</td>\n",
              "      <td>...</td>\n",
              "      <td>-0.047705</td>\n",
              "      <td>-0.113735</td>\n",
              "      <td>0.047191</td>\n",
              "      <td>0.102357</td>\n",
              "      <td>0.009344</td>\n",
              "      <td>-0.067307</td>\n",
              "      <td>-0.071956</td>\n",
              "      <td>0.051448</td>\n",
              "      <td>0.111858</td>\n",
              "      <td>1.884545</td>\n",
              "    </tr>\n",
              "    <tr>\n",
              "      <th>std</th>\n",
              "      <td>0.204522</td>\n",
              "      <td>0.243939</td>\n",
              "      <td>0.149252</td>\n",
              "      <td>0.150190</td>\n",
              "      <td>0.101864</td>\n",
              "      <td>0.171234</td>\n",
              "      <td>0.100768</td>\n",
              "      <td>0.186429</td>\n",
              "      <td>0.131958</td>\n",
              "      <td>0.196909</td>\n",
              "      <td>...</td>\n",
              "      <td>0.165983</td>\n",
              "      <td>0.208250</td>\n",
              "      <td>0.130303</td>\n",
              "      <td>0.150444</td>\n",
              "      <td>0.092064</td>\n",
              "      <td>0.082618</td>\n",
              "      <td>0.094601</td>\n",
              "      <td>0.080394</td>\n",
              "      <td>0.126817</td>\n",
              "      <td>0.989164</td>\n",
              "    </tr>\n",
              "    <tr>\n",
              "      <th>min</th>\n",
              "      <td>-0.500320</td>\n",
              "      <td>-0.436028</td>\n",
              "      <td>-0.472676</td>\n",
              "      <td>-0.447495</td>\n",
              "      <td>-0.313397</td>\n",
              "      <td>-0.538982</td>\n",
              "      <td>-0.576506</td>\n",
              "      <td>-0.513460</td>\n",
              "      <td>-0.518323</td>\n",
              "      <td>-0.901989</td>\n",
              "      <td>...</td>\n",
              "      <td>-0.565970</td>\n",
              "      <td>-0.717156</td>\n",
              "      <td>-0.498675</td>\n",
              "      <td>-0.421480</td>\n",
              "      <td>-0.759322</td>\n",
              "      <td>-0.680745</td>\n",
              "      <td>-0.361649</td>\n",
              "      <td>-0.430812</td>\n",
              "      <td>-0.375461</td>\n",
              "      <td>0.000000</td>\n",
              "    </tr>\n",
              "    <tr>\n",
              "      <th>25%</th>\n",
              "      <td>0.174858</td>\n",
              "      <td>0.096745</td>\n",
              "      <td>0.418656</td>\n",
              "      <td>0.106469</td>\n",
              "      <td>-0.001002</td>\n",
              "      <td>-0.140004</td>\n",
              "      <td>-0.018584</td>\n",
              "      <td>0.125626</td>\n",
              "      <td>-0.014899</td>\n",
              "      <td>-0.288113</td>\n",
              "      <td>...</td>\n",
              "      <td>-0.155606</td>\n",
              "      <td>-0.275271</td>\n",
              "      <td>-0.025788</td>\n",
              "      <td>-0.011130</td>\n",
              "      <td>-0.052096</td>\n",
              "      <td>-0.119219</td>\n",
              "      <td>-0.140703</td>\n",
              "      <td>-0.002805</td>\n",
              "      <td>0.022143</td>\n",
              "      <td>2.000000</td>\n",
              "    </tr>\n",
              "    <tr>\n",
              "      <th>50%</th>\n",
              "      <td>0.304040</td>\n",
              "      <td>0.210390</td>\n",
              "      <td>0.520782</td>\n",
              "      <td>0.180817</td>\n",
              "      <td>0.046851</td>\n",
              "      <td>-0.089144</td>\n",
              "      <td>0.034649</td>\n",
              "      <td>0.227751</td>\n",
              "      <td>0.045297</td>\n",
              "      <td>-0.214559</td>\n",
              "      <td>...</td>\n",
              "      <td>-0.072582</td>\n",
              "      <td>-0.201127</td>\n",
              "      <td>0.051501</td>\n",
              "      <td>0.161939</td>\n",
              "      <td>0.014949</td>\n",
              "      <td>-0.077523</td>\n",
              "      <td>-0.082641</td>\n",
              "      <td>0.049956</td>\n",
              "      <td>0.160371</td>\n",
              "      <td>2.000000</td>\n",
              "    </tr>\n",
              "    <tr>\n",
              "      <th>75%</th>\n",
              "      <td>0.451091</td>\n",
              "      <td>0.337773</td>\n",
              "      <td>0.575542</td>\n",
              "      <td>0.238215</td>\n",
              "      <td>0.107995</td>\n",
              "      <td>0.003196</td>\n",
              "      <td>0.086519</td>\n",
              "      <td>0.279041</td>\n",
              "      <td>0.112402</td>\n",
              "      <td>-0.033826</td>\n",
              "      <td>...</td>\n",
              "      <td>0.042184</td>\n",
              "      <td>0.076152</td>\n",
              "      <td>0.126679</td>\n",
              "      <td>0.216912</td>\n",
              "      <td>0.076296</td>\n",
              "      <td>-0.022659</td>\n",
              "      <td>-0.023184</td>\n",
              "      <td>0.105675</td>\n",
              "      <td>0.207754</td>\n",
              "      <td>2.000000</td>\n",
              "    </tr>\n",
              "    <tr>\n",
              "      <th>max</th>\n",
              "      <td>1.000000</td>\n",
              "      <td>1.000000</td>\n",
              "      <td>1.000000</td>\n",
              "      <td>0.752246</td>\n",
              "      <td>0.846513</td>\n",
              "      <td>0.696887</td>\n",
              "      <td>0.551762</td>\n",
              "      <td>0.642738</td>\n",
              "      <td>0.522768</td>\n",
              "      <td>0.523033</td>\n",
              "      <td>...</td>\n",
              "      <td>0.566873</td>\n",
              "      <td>0.668924</td>\n",
              "      <td>0.548584</td>\n",
              "      <td>0.681157</td>\n",
              "      <td>0.614064</td>\n",
              "      <td>0.388499</td>\n",
              "      <td>0.306126</td>\n",
              "      <td>0.389797</td>\n",
              "      <td>0.432207</td>\n",
              "      <td>4.000000</td>\n",
              "    </tr>\n",
              "  </tbody>\n",
              "</table>\n",
              "<p>8 rows × 22 columns</p>\n",
              "</div>\n",
              "      <button class=\"colab-df-convert\" onclick=\"convertToInteractive('df-b921c4fd-e8a3-4a84-ae69-379482b9bd38')\"\n",
              "              title=\"Convert this dataframe to an interactive table.\"\n",
              "              style=\"display:none;\">\n",
              "        \n",
              "  <svg xmlns=\"http://www.w3.org/2000/svg\" height=\"24px\"viewBox=\"0 0 24 24\"\n",
              "       width=\"24px\">\n",
              "    <path d=\"M0 0h24v24H0V0z\" fill=\"none\"/>\n",
              "    <path d=\"M18.56 5.44l.94 2.06.94-2.06 2.06-.94-2.06-.94-.94-2.06-.94 2.06-2.06.94zm-11 1L8.5 8.5l.94-2.06 2.06-.94-2.06-.94L8.5 2.5l-.94 2.06-2.06.94zm10 10l.94 2.06.94-2.06 2.06-.94-2.06-.94-.94-2.06-.94 2.06-2.06.94z\"/><path d=\"M17.41 7.96l-1.37-1.37c-.4-.4-.92-.59-1.43-.59-.52 0-1.04.2-1.43.59L10.3 9.45l-7.72 7.72c-.78.78-.78 2.05 0 2.83L4 21.41c.39.39.9.59 1.41.59.51 0 1.02-.2 1.41-.59l7.78-7.78 2.81-2.81c.8-.78.8-2.07 0-2.86zM5.41 20L4 18.59l7.72-7.72 1.47 1.35L5.41 20z\"/>\n",
              "  </svg>\n",
              "      </button>\n",
              "      \n",
              "  <style>\n",
              "    .colab-df-container {\n",
              "      display:flex;\n",
              "      flex-wrap:wrap;\n",
              "      gap: 12px;\n",
              "    }\n",
              "\n",
              "    .colab-df-convert {\n",
              "      background-color: #E8F0FE;\n",
              "      border: none;\n",
              "      border-radius: 50%;\n",
              "      cursor: pointer;\n",
              "      display: none;\n",
              "      fill: #1967D2;\n",
              "      height: 32px;\n",
              "      padding: 0 0 0 0;\n",
              "      width: 32px;\n",
              "    }\n",
              "\n",
              "    .colab-df-convert:hover {\n",
              "      background-color: #E2EBFA;\n",
              "      box-shadow: 0px 1px 2px rgba(60, 64, 67, 0.3), 0px 1px 3px 1px rgba(60, 64, 67, 0.15);\n",
              "      fill: #174EA6;\n",
              "    }\n",
              "\n",
              "    [theme=dark] .colab-df-convert {\n",
              "      background-color: #3B4455;\n",
              "      fill: #D2E3FC;\n",
              "    }\n",
              "\n",
              "    [theme=dark] .colab-df-convert:hover {\n",
              "      background-color: #434B5C;\n",
              "      box-shadow: 0px 1px 3px 1px rgba(0, 0, 0, 0.15);\n",
              "      filter: drop-shadow(0px 1px 2px rgba(0, 0, 0, 0.3));\n",
              "      fill: #FFFFFF;\n",
              "    }\n",
              "  </style>\n",
              "\n",
              "      <script>\n",
              "        const buttonEl =\n",
              "          document.querySelector('#df-b921c4fd-e8a3-4a84-ae69-379482b9bd38 button.colab-df-convert');\n",
              "        buttonEl.style.display =\n",
              "          google.colab.kernel.accessAllowed ? 'block' : 'none';\n",
              "\n",
              "        async function convertToInteractive(key) {\n",
              "          const element = document.querySelector('#df-b921c4fd-e8a3-4a84-ae69-379482b9bd38');\n",
              "          const dataTable =\n",
              "            await google.colab.kernel.invokeFunction('convertToInteractive',\n",
              "                                                     [key], {});\n",
              "          if (!dataTable) return;\n",
              "\n",
              "          const docLinkHtml = 'Like what you see? Visit the ' +\n",
              "            '<a target=\"_blank\" href=https://colab.research.google.com/notebooks/data_table.ipynb>data table notebook</a>'\n",
              "            + ' to learn more about interactive tables.';\n",
              "          element.innerHTML = '';\n",
              "          dataTable['output_type'] = 'display_data';\n",
              "          await google.colab.output.renderOutput(dataTable, element);\n",
              "          const docLink = document.createElement('div');\n",
              "          docLink.innerHTML = docLinkHtml;\n",
              "          element.appendChild(docLink);\n",
              "        }\n",
              "      </script>\n",
              "    </div>\n",
              "  </div>\n",
              "  "
            ]
          },
          "metadata": {},
          "execution_count": 3
        }
      ],
      "source": [
        "data.describe()"
      ]
    },
    {
      "cell_type": "code",
      "execution_count": 4,
      "metadata": {
        "colab": {
          "base_uri": "https://localhost:8080/",
          "height": 300
        },
        "id": "z2CvQLuSGixf",
        "outputId": "3f15b019-f014-43c7-9349-819c738c5673"
      },
      "outputs": [
        {
          "output_type": "execute_result",
          "data": {
            "text/plain": [
              "          1         2         3         4         5         6         7  \\\n",
              "0  0.152936 -0.105586  0.200722  0.317201  0.260764  0.100945 -0.150063   \n",
              "1  0.171534 -0.098975  0.268425  0.338672  0.268353  0.060835 -0.222475   \n",
              "2  0.152317 -0.082973  0.287128  0.276014  0.189867  0.008714 -0.242234   \n",
              "3  0.224392  0.118985  0.329432  0.372088  0.361005  0.015501 -0.194347   \n",
              "4  0.087817 -0.068345  0.306967  0.330923  0.249144  0.006884 -0.265423   \n",
              "\n",
              "          8         9        10  ...        13        14        15        16  \\\n",
              "0 -0.171128  0.124676  0.188654  ...  0.082245  0.135752 -0.024017 -0.108351   \n",
              "1 -0.207693  0.170883  0.270958  ...  0.022786  0.163320  0.012022 -0.090974   \n",
              "2 -0.219153  0.232538  0.266064  ...  0.050791  0.207338  0.083536 -0.050691   \n",
              "3 -0.098181  0.270375  0.267279  ... -0.011567  0.100413 -0.050224 -0.136009   \n",
              "4 -0.172700  0.266434  0.332695  ...  0.037439  0.219153  0.062837 -0.048885   \n",
              "\n",
              "         17        18        19        20        21  Target  \n",
              "0 -0.077623 -0.009568  0.057684  0.118680  0.014038       0  \n",
              "1 -0.056510 -0.035303  0.020140  0.082263  0.029056       0  \n",
              "2 -0.023590 -0.066722 -0.025083  0.099108  0.077162       0  \n",
              "3 -0.177037 -0.130498 -0.054766 -0.018691  0.023954       0  \n",
              "4 -0.053074 -0.088550 -0.031346  0.108610  0.079244       0  \n",
              "\n",
              "[5 rows x 22 columns]"
            ],
            "text/html": [
              "\n",
              "  <div id=\"df-12a969d4-a8b7-41e7-9cdc-9e792f2821cf\">\n",
              "    <div class=\"colab-df-container\">\n",
              "      <div>\n",
              "<style scoped>\n",
              "    .dataframe tbody tr th:only-of-type {\n",
              "        vertical-align: middle;\n",
              "    }\n",
              "\n",
              "    .dataframe tbody tr th {\n",
              "        vertical-align: top;\n",
              "    }\n",
              "\n",
              "    .dataframe thead th {\n",
              "        text-align: right;\n",
              "    }\n",
              "</style>\n",
              "<table border=\"1\" class=\"dataframe\">\n",
              "  <thead>\n",
              "    <tr style=\"text-align: right;\">\n",
              "      <th></th>\n",
              "      <th>1</th>\n",
              "      <th>2</th>\n",
              "      <th>3</th>\n",
              "      <th>4</th>\n",
              "      <th>5</th>\n",
              "      <th>6</th>\n",
              "      <th>7</th>\n",
              "      <th>8</th>\n",
              "      <th>9</th>\n",
              "      <th>10</th>\n",
              "      <th>...</th>\n",
              "      <th>13</th>\n",
              "      <th>14</th>\n",
              "      <th>15</th>\n",
              "      <th>16</th>\n",
              "      <th>17</th>\n",
              "      <th>18</th>\n",
              "      <th>19</th>\n",
              "      <th>20</th>\n",
              "      <th>21</th>\n",
              "      <th>Target</th>\n",
              "    </tr>\n",
              "  </thead>\n",
              "  <tbody>\n",
              "    <tr>\n",
              "      <th>0</th>\n",
              "      <td>0.152936</td>\n",
              "      <td>-0.105586</td>\n",
              "      <td>0.200722</td>\n",
              "      <td>0.317201</td>\n",
              "      <td>0.260764</td>\n",
              "      <td>0.100945</td>\n",
              "      <td>-0.150063</td>\n",
              "      <td>-0.171128</td>\n",
              "      <td>0.124676</td>\n",
              "      <td>0.188654</td>\n",
              "      <td>...</td>\n",
              "      <td>0.082245</td>\n",
              "      <td>0.135752</td>\n",
              "      <td>-0.024017</td>\n",
              "      <td>-0.108351</td>\n",
              "      <td>-0.077623</td>\n",
              "      <td>-0.009568</td>\n",
              "      <td>0.057684</td>\n",
              "      <td>0.118680</td>\n",
              "      <td>0.014038</td>\n",
              "      <td>0</td>\n",
              "    </tr>\n",
              "    <tr>\n",
              "      <th>1</th>\n",
              "      <td>0.171534</td>\n",
              "      <td>-0.098975</td>\n",
              "      <td>0.268425</td>\n",
              "      <td>0.338672</td>\n",
              "      <td>0.268353</td>\n",
              "      <td>0.060835</td>\n",
              "      <td>-0.222475</td>\n",
              "      <td>-0.207693</td>\n",
              "      <td>0.170883</td>\n",
              "      <td>0.270958</td>\n",
              "      <td>...</td>\n",
              "      <td>0.022786</td>\n",
              "      <td>0.163320</td>\n",
              "      <td>0.012022</td>\n",
              "      <td>-0.090974</td>\n",
              "      <td>-0.056510</td>\n",
              "      <td>-0.035303</td>\n",
              "      <td>0.020140</td>\n",
              "      <td>0.082263</td>\n",
              "      <td>0.029056</td>\n",
              "      <td>0</td>\n",
              "    </tr>\n",
              "    <tr>\n",
              "      <th>2</th>\n",
              "      <td>0.152317</td>\n",
              "      <td>-0.082973</td>\n",
              "      <td>0.287128</td>\n",
              "      <td>0.276014</td>\n",
              "      <td>0.189867</td>\n",
              "      <td>0.008714</td>\n",
              "      <td>-0.242234</td>\n",
              "      <td>-0.219153</td>\n",
              "      <td>0.232538</td>\n",
              "      <td>0.266064</td>\n",
              "      <td>...</td>\n",
              "      <td>0.050791</td>\n",
              "      <td>0.207338</td>\n",
              "      <td>0.083536</td>\n",
              "      <td>-0.050691</td>\n",
              "      <td>-0.023590</td>\n",
              "      <td>-0.066722</td>\n",
              "      <td>-0.025083</td>\n",
              "      <td>0.099108</td>\n",
              "      <td>0.077162</td>\n",
              "      <td>0</td>\n",
              "    </tr>\n",
              "    <tr>\n",
              "      <th>3</th>\n",
              "      <td>0.224392</td>\n",
              "      <td>0.118985</td>\n",
              "      <td>0.329432</td>\n",
              "      <td>0.372088</td>\n",
              "      <td>0.361005</td>\n",
              "      <td>0.015501</td>\n",
              "      <td>-0.194347</td>\n",
              "      <td>-0.098181</td>\n",
              "      <td>0.270375</td>\n",
              "      <td>0.267279</td>\n",
              "      <td>...</td>\n",
              "      <td>-0.011567</td>\n",
              "      <td>0.100413</td>\n",
              "      <td>-0.050224</td>\n",
              "      <td>-0.136009</td>\n",
              "      <td>-0.177037</td>\n",
              "      <td>-0.130498</td>\n",
              "      <td>-0.054766</td>\n",
              "      <td>-0.018691</td>\n",
              "      <td>0.023954</td>\n",
              "      <td>0</td>\n",
              "    </tr>\n",
              "    <tr>\n",
              "      <th>4</th>\n",
              "      <td>0.087817</td>\n",
              "      <td>-0.068345</td>\n",
              "      <td>0.306967</td>\n",
              "      <td>0.330923</td>\n",
              "      <td>0.249144</td>\n",
              "      <td>0.006884</td>\n",
              "      <td>-0.265423</td>\n",
              "      <td>-0.172700</td>\n",
              "      <td>0.266434</td>\n",
              "      <td>0.332695</td>\n",
              "      <td>...</td>\n",
              "      <td>0.037439</td>\n",
              "      <td>0.219153</td>\n",
              "      <td>0.062837</td>\n",
              "      <td>-0.048885</td>\n",
              "      <td>-0.053074</td>\n",
              "      <td>-0.088550</td>\n",
              "      <td>-0.031346</td>\n",
              "      <td>0.108610</td>\n",
              "      <td>0.079244</td>\n",
              "      <td>0</td>\n",
              "    </tr>\n",
              "  </tbody>\n",
              "</table>\n",
              "<p>5 rows × 22 columns</p>\n",
              "</div>\n",
              "      <button class=\"colab-df-convert\" onclick=\"convertToInteractive('df-12a969d4-a8b7-41e7-9cdc-9e792f2821cf')\"\n",
              "              title=\"Convert this dataframe to an interactive table.\"\n",
              "              style=\"display:none;\">\n",
              "        \n",
              "  <svg xmlns=\"http://www.w3.org/2000/svg\" height=\"24px\"viewBox=\"0 0 24 24\"\n",
              "       width=\"24px\">\n",
              "    <path d=\"M0 0h24v24H0V0z\" fill=\"none\"/>\n",
              "    <path d=\"M18.56 5.44l.94 2.06.94-2.06 2.06-.94-2.06-.94-.94-2.06-.94 2.06-2.06.94zm-11 1L8.5 8.5l.94-2.06 2.06-.94-2.06-.94L8.5 2.5l-.94 2.06-2.06.94zm10 10l.94 2.06.94-2.06 2.06-.94-2.06-.94-.94-2.06-.94 2.06-2.06.94z\"/><path d=\"M17.41 7.96l-1.37-1.37c-.4-.4-.92-.59-1.43-.59-.52 0-1.04.2-1.43.59L10.3 9.45l-7.72 7.72c-.78.78-.78 2.05 0 2.83L4 21.41c.39.39.9.59 1.41.59.51 0 1.02-.2 1.41-.59l7.78-7.78 2.81-2.81c.8-.78.8-2.07 0-2.86zM5.41 20L4 18.59l7.72-7.72 1.47 1.35L5.41 20z\"/>\n",
              "  </svg>\n",
              "      </button>\n",
              "      \n",
              "  <style>\n",
              "    .colab-df-container {\n",
              "      display:flex;\n",
              "      flex-wrap:wrap;\n",
              "      gap: 12px;\n",
              "    }\n",
              "\n",
              "    .colab-df-convert {\n",
              "      background-color: #E8F0FE;\n",
              "      border: none;\n",
              "      border-radius: 50%;\n",
              "      cursor: pointer;\n",
              "      display: none;\n",
              "      fill: #1967D2;\n",
              "      height: 32px;\n",
              "      padding: 0 0 0 0;\n",
              "      width: 32px;\n",
              "    }\n",
              "\n",
              "    .colab-df-convert:hover {\n",
              "      background-color: #E2EBFA;\n",
              "      box-shadow: 0px 1px 2px rgba(60, 64, 67, 0.3), 0px 1px 3px 1px rgba(60, 64, 67, 0.15);\n",
              "      fill: #174EA6;\n",
              "    }\n",
              "\n",
              "    [theme=dark] .colab-df-convert {\n",
              "      background-color: #3B4455;\n",
              "      fill: #D2E3FC;\n",
              "    }\n",
              "\n",
              "    [theme=dark] .colab-df-convert:hover {\n",
              "      background-color: #434B5C;\n",
              "      box-shadow: 0px 1px 3px 1px rgba(0, 0, 0, 0.15);\n",
              "      filter: drop-shadow(0px 1px 2px rgba(0, 0, 0, 0.3));\n",
              "      fill: #FFFFFF;\n",
              "    }\n",
              "  </style>\n",
              "\n",
              "      <script>\n",
              "        const buttonEl =\n",
              "          document.querySelector('#df-12a969d4-a8b7-41e7-9cdc-9e792f2821cf button.colab-df-convert');\n",
              "        buttonEl.style.display =\n",
              "          google.colab.kernel.accessAllowed ? 'block' : 'none';\n",
              "\n",
              "        async function convertToInteractive(key) {\n",
              "          const element = document.querySelector('#df-12a969d4-a8b7-41e7-9cdc-9e792f2821cf');\n",
              "          const dataTable =\n",
              "            await google.colab.kernel.invokeFunction('convertToInteractive',\n",
              "                                                     [key], {});\n",
              "          if (!dataTable) return;\n",
              "\n",
              "          const docLinkHtml = 'Like what you see? Visit the ' +\n",
              "            '<a target=\"_blank\" href=https://colab.research.google.com/notebooks/data_table.ipynb>data table notebook</a>'\n",
              "            + ' to learn more about interactive tables.';\n",
              "          element.innerHTML = '';\n",
              "          dataTable['output_type'] = 'display_data';\n",
              "          await google.colab.output.renderOutput(dataTable, element);\n",
              "          const docLink = document.createElement('div');\n",
              "          docLink.innerHTML = docLinkHtml;\n",
              "          element.appendChild(docLink);\n",
              "        }\n",
              "      </script>\n",
              "    </div>\n",
              "  </div>\n",
              "  "
            ]
          },
          "metadata": {},
          "execution_count": 4
        }
      ],
      "source": [
        "data.head() #showing of the dataset"
      ]
    },
    {
      "cell_type": "markdown",
      "metadata": {
        "id": "k-1e6CKCkqy3"
      },
      "source": [
        "**There is no need to standardize the data since we dont have a big range differences among the variables of the dataset and the dataset is in order**"
      ]
    },
    {
      "cell_type": "code",
      "execution_count": 5,
      "metadata": {
        "id": "jqOBa5SlGi05"
      },
      "outputs": [],
      "source": [
        "#assigning features to X and Target to Y\n",
        "X = data.drop(columns=['Target']).values\n",
        "Y = data['Target'].values"
      ]
    },
    {
      "cell_type": "code",
      "execution_count": 6,
      "metadata": {
        "id": "ZHfvoYQRkqy5"
      },
      "outputs": [],
      "source": [
        "#splitting the data\n",
        "X_train, X_test, Y_train, Y_test = train_test_split(X, Y, test_size=0.2) "
      ]
    },
    {
      "cell_type": "code",
      "execution_count": 7,
      "metadata": {
        "colab": {
          "base_uri": "https://localhost:8080/"
        },
        "id": "z6zaJ9ULkqy6",
        "outputId": "c06275df-e1d1-4506-caa0-c6645d7125aa"
      },
      "outputs": [
        {
          "output_type": "stream",
          "name": "stdout",
          "text": [
            "Total number of outputs :  5\n",
            "Output classes :  [0 1 2 3 4]\n"
          ]
        }
      ],
      "source": [
        "classes = np.unique(Y_train) #classes in the training data\n",
        "nClasses = len(classes) #number of classes in the training data\n",
        "print('Total number of outputs : ', nClasses)\n",
        "print('Output classes : ', classes)"
      ]
    },
    {
      "cell_type": "code",
      "execution_count": 8,
      "metadata": {
        "colab": {
          "base_uri": "https://localhost:8080/"
        },
        "id": "kA8aGpkUkqy7",
        "outputId": "172b1a16-d28e-48c3-97ca-a90f1c3cd202"
      },
      "outputs": [
        {
          "output_type": "execute_result",
          "data": {
            "text/plain": [
              "(4379, 21)"
            ]
          },
          "metadata": {},
          "execution_count": 8
        }
      ],
      "source": [
        "X_train.shape #Checking shape of training data"
      ]
    },
    {
      "cell_type": "code",
      "execution_count": 9,
      "metadata": {
        "colab": {
          "base_uri": "https://localhost:8080/"
        },
        "id": "te2noudXkqy9",
        "outputId": "c23bde65-268f-472e-d21d-b0f3fcd077f9"
      },
      "outputs": [
        {
          "output_type": "execute_result",
          "data": {
            "text/plain": [
              "(1095,)"
            ]
          },
          "metadata": {},
          "execution_count": 9
        }
      ],
      "source": [
        "Y_test.shape #checking shape of testing data"
      ]
    },
    {
      "cell_type": "code",
      "execution_count": 10,
      "metadata": {
        "id": "9ll9nxv2kqy_"
      },
      "outputs": [],
      "source": [
        "#Perfoming one-hot encoding\n",
        "Y_train = np_utils.to_categorical(Y_train)\n",
        "Y_test=np_utils.to_categorical(Y_test)"
      ]
    },
    {
      "cell_type": "code",
      "execution_count": 11,
      "metadata": {
        "colab": {
          "base_uri": "https://localhost:8080/"
        },
        "id": "AuyU1odakqzA",
        "outputId": "ac682789-5f48-4a3e-bf67-15cd027055bb"
      },
      "outputs": [
        {
          "output_type": "execute_result",
          "data": {
            "text/plain": [
              "(21,)"
            ]
          },
          "metadata": {},
          "execution_count": 11
        }
      ],
      "source": [
        "#shape of X_train\n",
        "X_train[0].shape "
      ]
    },
    {
      "cell_type": "code",
      "execution_count": 12,
      "metadata": {
        "colab": {
          "base_uri": "https://localhost:8080/"
        },
        "id": "qi8PvZgdkqzB",
        "outputId": "8c6bfe90-f095-4f2b-a5f7-d6ea39ed1251"
      },
      "outputs": [
        {
          "output_type": "execute_result",
          "data": {
            "text/plain": [
              "array([ 0.15784651,  0.23215661,  0.6371971 ,  0.24302247,  0.01670838,\n",
              "       -0.12828764,  0.02307186,  0.1948651 , -0.04992036, -0.20888502,\n",
              "        0.15355761,  0.23940722, -0.25477768, -0.17077825,  0.283424  ,\n",
              "        0.22899124, -0.074587  , -0.17482187, -0.05605955,  0.20986454,\n",
              "        0.24060409])"
            ]
          },
          "metadata": {},
          "execution_count": 12
        }
      ],
      "source": [
        " #viewing the dataset\n",
        "X_train[0]"
      ]
    },
    {
      "cell_type": "code",
      "execution_count": 13,
      "metadata": {
        "colab": {
          "base_uri": "https://localhost:8080/"
        },
        "id": "dwoD7afdkqzC",
        "outputId": "16925315-3d19-403e-a439-7ffb1bc9f71d"
      },
      "outputs": [
        {
          "output_type": "execute_result",
          "data": {
            "text/plain": [
              "(1095, 21)"
            ]
          },
          "metadata": {},
          "execution_count": 13
        }
      ],
      "source": [
        "#checking X_text shape\n",
        "X_test.shape"
      ]
    },
    {
      "cell_type": "code",
      "execution_count": 14,
      "metadata": {
        "id": "omJ2kMdikqzE"
      },
      "outputs": [],
      "source": [
        "#model definition \n",
        "def baseline():\n",
        " \n",
        "    model = Sequential() #creating a model\n",
        "    # adding fully connected layers\n",
        "    model.add(Dense(16, input_dim=21, activation='relu'))\n",
        "    model.add(Dense(16, activation='relu'))\n",
        "    model.add(Dense(5, activation='softmax'))\n",
        "    \n",
        "    # Compiling model\n",
        "    model.compile(loss='categorical_crossentropy', \n",
        "                  optimizer='adam', \n",
        "                  metrics=['accuracy'])\n",
        "    \n",
        "    return model"
      ]
    },
    {
      "cell_type": "code",
      "execution_count": 15,
      "metadata": {
        "id": "4eBh37CHkqzG"
      },
      "outputs": [],
      "source": [
        "#initializing the model\n",
        "model = baseline() "
      ]
    },
    {
      "cell_type": "code",
      "execution_count": 16,
      "metadata": {
        "colab": {
          "base_uri": "https://localhost:8080/"
        },
        "id": "J4yeePqOkqzG",
        "outputId": "5d974789-64c3-4c8b-c206-d5f21470c2bf"
      },
      "outputs": [
        {
          "output_type": "stream",
          "name": "stdout",
          "text": [
            "Model: \"sequential\"\n",
            "_________________________________________________________________\n",
            " Layer (type)                Output Shape              Param #   \n",
            "=================================================================\n",
            " dense (Dense)               (None, 16)                352       \n",
            "                                                                 \n",
            " dense_1 (Dense)             (None, 16)                272       \n",
            "                                                                 \n",
            " dense_2 (Dense)             (None, 5)                 85        \n",
            "                                                                 \n",
            "=================================================================\n",
            "Total params: 709\n",
            "Trainable params: 709\n",
            "Non-trainable params: 0\n",
            "_________________________________________________________________\n"
          ]
        }
      ],
      "source": [
        "#model summary\n",
        "model.summary() "
      ]
    },
    {
      "cell_type": "code",
      "execution_count": 17,
      "metadata": {
        "colab": {
          "base_uri": "https://localhost:8080/"
        },
        "id": "oY3wZbATkqzI",
        "outputId": "8cfa31cf-8599-4517-a323-61a735cac497"
      },
      "outputs": [
        {
          "output_type": "stream",
          "name": "stdout",
          "text": [
            "Epoch 1/15\n",
            "205/205 [==============================] - 1s 4ms/step - loss: 0.8912 - accuracy: 0.6509 - val_loss: 0.6103 - val_accuracy: 0.7915\n",
            "Epoch 2/15\n",
            "205/205 [==============================] - 1s 2ms/step - loss: 0.4325 - accuracy: 0.8600 - val_loss: 0.3584 - val_accuracy: 0.8744\n",
            "Epoch 3/15\n",
            "205/205 [==============================] - 1s 2ms/step - loss: 0.2427 - accuracy: 0.9282 - val_loss: 0.2377 - val_accuracy: 0.9361\n",
            "Epoch 4/15\n",
            "205/205 [==============================] - 1s 4ms/step - loss: 0.1712 - accuracy: 0.9573 - val_loss: 0.1931 - val_accuracy: 0.9414\n",
            "Epoch 5/15\n",
            "205/205 [==============================] - 0s 2ms/step - loss: 0.1413 - accuracy: 0.9599 - val_loss: 0.1770 - val_accuracy: 0.9429\n",
            "Epoch 6/15\n",
            "205/205 [==============================] - 1s 3ms/step - loss: 0.1205 - accuracy: 0.9670 - val_loss: 0.1565 - val_accuracy: 0.9528\n",
            "Epoch 7/15\n",
            "205/205 [==============================] - 1s 3ms/step - loss: 0.1063 - accuracy: 0.9713 - val_loss: 0.1465 - val_accuracy: 0.9574\n",
            "Epoch 8/15\n",
            "205/205 [==============================] - 1s 3ms/step - loss: 0.0938 - accuracy: 0.9749 - val_loss: 0.1342 - val_accuracy: 0.9589\n",
            "Epoch 9/15\n",
            "205/205 [==============================] - 1s 3ms/step - loss: 0.0850 - accuracy: 0.9755 - val_loss: 0.1270 - val_accuracy: 0.9581\n",
            "Epoch 10/15\n",
            "205/205 [==============================] - 0s 2ms/step - loss: 0.0767 - accuracy: 0.9765 - val_loss: 0.1215 - val_accuracy: 0.9604\n",
            "Epoch 11/15\n",
            "205/205 [==============================] - 1s 3ms/step - loss: 0.0710 - accuracy: 0.9772 - val_loss: 0.1127 - val_accuracy: 0.9589\n",
            "Epoch 12/15\n",
            "205/205 [==============================] - 1s 3ms/step - loss: 0.0644 - accuracy: 0.9778 - val_loss: 0.1102 - val_accuracy: 0.9673\n",
            "Epoch 13/15\n",
            "205/205 [==============================] - 1s 2ms/step - loss: 0.0597 - accuracy: 0.9804 - val_loss: 0.1037 - val_accuracy: 0.9619\n",
            "Epoch 14/15\n",
            "205/205 [==============================] - 1s 3ms/step - loss: 0.0554 - accuracy: 0.9824 - val_loss: 0.1031 - val_accuracy: 0.9650\n",
            "Epoch 15/15\n",
            "205/205 [==============================] - 1s 3ms/step - loss: 0.0531 - accuracy: 0.9817 - val_loss: 0.0997 - val_accuracy: 0.9711\n"
          ]
        }
      ],
      "source": [
        "#Fitting the model on the training features and targets\n",
        "X_train, X_val, Y_train, Y_val = train_test_split(X_train, Y_train, test_size=0.3)\n",
        "history = model.fit(X_train, Y_train, validation_data=(X_val, Y_val), epochs=15, batch_size=15, verbose=1)"
      ]
    },
    {
      "cell_type": "code",
      "execution_count": 18,
      "metadata": {
        "colab": {
          "base_uri": "https://localhost:8080/"
        },
        "id": "K94HdgNCkqzJ",
        "outputId": "f17a5917-342f-4630-cb0d-40f638c398ba"
      },
      "outputs": [
        {
          "output_type": "stream",
          "name": "stdout",
          "text": [
            "35/35 [==============================] - 0s 1ms/step\n"
          ]
        }
      ],
      "source": [
        "#Predicting on X_test data\n",
        "prediction = model.predict(X_test) "
      ]
    },
    {
      "cell_type": "code",
      "execution_count": 19,
      "metadata": {
        "id": "HSZnQQoQkqzK"
      },
      "outputs": [],
      "source": [
        "prediction_classes = np.argmax(prediction, axis=1)"
      ]
    },
    {
      "cell_type": "code",
      "execution_count": 20,
      "metadata": {
        "colab": {
          "base_uri": "https://localhost:8080/"
        },
        "id": "EzpqCb3fkqzK",
        "outputId": "f26aa7f7-723c-403d-d70c-e1d4eea60f27"
      },
      "outputs": [
        {
          "output_type": "execute_result",
          "data": {
            "text/plain": [
              "0.9762557077625571"
            ]
          },
          "metadata": {},
          "execution_count": 20
        }
      ],
      "source": [
        "#accuracy score of the model\n",
        "accuracy_score(np.argmax(Y_test,1), prediction_classes) "
      ]
    },
    {
      "cell_type": "code",
      "execution_count": 21,
      "metadata": {
        "id": "0xpGQyFPkqzL"
      },
      "outputs": [],
      "source": [
        "#Plot the error over the epochs\n",
        "def plot_hist(h, xsize=6, ysize=10):\n",
        "\n",
        "    fig_size = plt.rcParams[\"figure.figsize\"]\n",
        "    plt.rcParams[\"figure.figsize\"] = [xsize, ysize]\n",
        "    fig, axes = plt.subplots(nrows=1, ncols=1, sharex=True)\n",
        "    \n",
        "    # summarising history for Accuracy\n",
        "    plt.subplot(211)\n",
        "    plt.plot(h['accuracy'])\n",
        "    plt.plot(h['val_accuracy'])\n",
        "    plt.title('Training Performance')\n",
        "    plt.ylabel('Accuracy')\n",
        "    plt.xlabel('Epochs')\n",
        "    plt.legend(['Train', 'Validation'], loc='best')\n",
        "    \n",
        "    plt.draw()\n",
        "    plt.show()\n",
        "\n",
        "    return\n"
      ]
    },
    {
      "cell_type": "code",
      "execution_count": 22,
      "metadata": {
        "colab": {
          "base_uri": "https://localhost:8080/",
          "height": 374
        },
        "id": "5ImhlhnAkqzM",
        "outputId": "34c715b4-fddb-48cc-8834-538d90c97014"
      },
      "outputs": [
        {
          "output_type": "display_data",
          "data": {
            "text/plain": [
              "<Figure size 576x864 with 1 Axes>"
            ],
            "image/png": "[encoded data removed]"
          },
          "metadata": {
            "needs_background": "light"
          }
        }
      ],
      "source": [
        "plot_hist(history.history, xsize=8, ysize=12)"
      ]
    },
    {
      "cell_type": "code",
      "execution_count": 22,
      "metadata": {
        "id": "0y53LOyRkqzN"
      },
      "outputs": [],
      "source": []
    }
  ],
  "metadata": {
    "colab": {
      "provenance": []
    },
    "kernelspec": {
      "display_name": "Python 3",
      "language": "python",
      "name": "python3"
    },
    "language_info": {
      "codemirror_mode": {
        "name": "ipython",
        "version": 3
      },
      "file_extension": ".py",
      "mimetype": "text/x-python",
      "name": "python",
      "nbconvert_exporter": "python",
      "pygments_lexer": "ipython3",
      "version": "3.9.2"
    }
  },
  "nbformat": 4,
  "nbformat_minor": 0
}