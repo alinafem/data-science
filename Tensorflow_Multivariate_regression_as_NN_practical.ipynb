{
  "cells": [
    {
      "cell_type": "markdown",
      "metadata": {
        "id": "OpPhNErAUooE"
      },
      "source": [
        "\n",
        "\n",
        "## Regression as Neural Networks Practical\n"
      ]
    },
    {
      "cell_type": "code",
      "execution_count": 1,
      "metadata": {
        "id": "U8M1nH2IzI7x"
      },
      "outputs": [],
      "source": [
        "import pandas #impoting pandas for reading data\n",
        "import numpy as np #importing numpy as np\n",
        "\n",
        "np.random.seed(1337) #for reproducibility\n",
        "\n",
        "import tensorflow as tf #importing tensorflow library\n",
        "\n",
        "from tensorflow.keras import Sequential #importing sequential from keras\n",
        "from tensorflow.keras.layers import Dense #importing dense from keras\n",
        "from tensorflow.keras import metrics\n",
        "from tensorflow.keras.wrappers.scikit_learn import KerasRegressor\n",
        "#importing sklearn library \n",
        "from sklearn.metrics import mean_squared_error #importing mean squared error from sklearn\n",
        "from sklearn.preprocessing import StandardScaler #importing Standard scaler from sklearn\n",
        "from sklearn.model_selection import train_test_split#importing train test split from sklearn\n",
        "import matplotlib.pyplot as plt #importing matplotlib for the plots"
      ]
    },
    {
      "cell_type": "code",
      "execution_count": 2,
      "metadata": {
        "id": "wae_HjknzI8E"
      },
      "outputs": [],
      "source": [
        "dataframe = pandas.read_csv(\"https://raw.githubusercontent.com/eijaz1/Deep-Learning-in-Keras-Tutorial/master/data/hourly_wages_data.csv\")\n",
        "dataset = dataframe.values"
      ]
    },
    {
      "cell_type": "code",
      "execution_count": 3,
      "metadata": {
        "colab": {
          "base_uri": "https://localhost:8080/",
          "height": 206
        },
        "id": "pM9-iHobzI8L",
        "outputId": "4524a069-14f6-49a4-85d8-548991b0e66c"
      },
      "outputs": [
        {
          "output_type": "execute_result",
          "data": {
            "text/plain": [
              "   wage_per_hour  union  education_yrs  experience_yrs  age  female  marr  \\\n",
              "0           5.10      0              8              21   35       1     1   \n",
              "1           4.95      0              9              42   57       1     1   \n",
              "2           6.67      0             12               1   19       0     0   \n",
              "3           4.00      0             12               4   22       0     0   \n",
              "4           7.50      0             12              17   35       0     1   \n",
              "\n",
              "   south  manufacturing  construction  \n",
              "0      0              1             0  \n",
              "1      0              1             0  \n",
              "2      0              1             0  \n",
              "3      0              0             0  \n",
              "4      0              0             0  "
            ],
            "text/html": [
              "\n",
              "  <div id=\"df-08be485a-6364-4071-91e2-84fe5361638e\">\n",
              "    <div class=\"colab-df-container\">\n",
              "      <div>\n",
              "<style scoped>\n",
              "    .dataframe tbody tr th:only-of-type {\n",
              "        vertical-align: middle;\n",
              "    }\n",
              "\n",
              "    .dataframe tbody tr th {\n",
              "        vertical-align: top;\n",
              "    }\n",
              "\n",
              "    .dataframe thead th {\n",
              "        text-align: right;\n",
              "    }\n",
              "</style>\n",
              "<table border=\"1\" class=\"dataframe\">\n",
              "  <thead>\n",
              "    <tr style=\"text-align: right;\">\n",
              "      <th></th>\n",
              "      <th>wage_per_hour</th>\n",
              "      <th>union</th>\n",
              "      <th>education_yrs</th>\n",
              "      <th>experience_yrs</th>\n",
              "      <th>age</th>\n",
              "      <th>female</th>\n",
              "      <th>marr</th>\n",
              "      <th>south</th>\n",
              "      <th>manufacturing</th>\n",
              "      <th>construction</th>\n",
              "    </tr>\n",
              "  </thead>\n",
              "  <tbody>\n",
              "    <tr>\n",
              "      <th>0</th>\n",
              "      <td>5.10</td>\n",
              "      <td>0</td>\n",
              "      <td>8</td>\n",
              "      <td>21</td>\n",
              "      <td>35</td>\n",
              "      <td>1</td>\n",
              "      <td>1</td>\n",
              "      <td>0</td>\n",
              "      <td>1</td>\n",
              "      <td>0</td>\n",
              "    </tr>\n",
              "    <tr>\n",
              "      <th>1</th>\n",
              "      <td>4.95</td>\n",
              "      <td>0</td>\n",
              "      <td>9</td>\n",
              "      <td>42</td>\n",
              "      <td>57</td>\n",
              "      <td>1</td>\n",
              "      <td>1</td>\n",
              "      <td>0</td>\n",
              "      <td>1</td>\n",
              "      <td>0</td>\n",
              "    </tr>\n",
              "    <tr>\n",
              "      <th>2</th>\n",
              "      <td>6.67</td>\n",
              "      <td>0</td>\n",
              "      <td>12</td>\n",
              "      <td>1</td>\n",
              "      <td>19</td>\n",
              "      <td>0</td>\n",
              "      <td>0</td>\n",
              "      <td>0</td>\n",
              "      <td>1</td>\n",
              "      <td>0</td>\n",
              "    </tr>\n",
              "    <tr>\n",
              "      <th>3</th>\n",
              "      <td>4.00</td>\n",
              "      <td>0</td>\n",
              "      <td>12</td>\n",
              "      <td>4</td>\n",
              "      <td>22</td>\n",
              "      <td>0</td>\n",
              "      <td>0</td>\n",
              "      <td>0</td>\n",
              "      <td>0</td>\n",
              "      <td>0</td>\n",
              "    </tr>\n",
              "    <tr>\n",
              "      <th>4</th>\n",
              "      <td>7.50</td>\n",
              "      <td>0</td>\n",
              "      <td>12</td>\n",
              "      <td>17</td>\n",
              "      <td>35</td>\n",
              "      <td>0</td>\n",
              "      <td>1</td>\n",
              "      <td>0</td>\n",
              "      <td>0</td>\n",
              "      <td>0</td>\n",
              "    </tr>\n",
              "  </tbody>\n",
              "</table>\n",
              "</div>\n",
              "      <button class=\"colab-df-convert\" onclick=\"convertToInteractive('df-08be485a-6364-4071-91e2-84fe5361638e')\"\n",
              "              title=\"Convert this dataframe to an interactive table.\"\n",
              "              style=\"display:none;\">\n",
              "        \n",
              "  <svg xmlns=\"http://www.w3.org/2000/svg\" height=\"24px\"viewBox=\"0 0 24 24\"\n",
              "       width=\"24px\">\n",
              "    <path d=\"M0 0h24v24H0V0z\" fill=\"none\"/>\n",
              "    <path d=\"M18.56 5.44l.94 2.06.94-2.06 2.06-.94-2.06-.94-.94-2.06-.94 2.06-2.06.94zm-11 1L8.5 8.5l.94-2.06 2.06-.94-2.06-.94L8.5 2.5l-.94 2.06-2.06.94zm10 10l.94 2.06.94-2.06 2.06-.94-2.06-.94-.94-2.06-.94 2.06-2.06.94z\"/><path d=\"M17.41 7.96l-1.37-1.37c-.4-.4-.92-.59-1.43-.59-.52 0-1.04.2-1.43.59L10.3 9.45l-7.72 7.72c-.78.78-.78 2.05 0 2.83L4 21.41c.39.39.9.59 1.41.59.51 0 1.02-.2 1.41-.59l7.78-7.78 2.81-2.81c.8-.78.8-2.07 0-2.86zM5.41 20L4 18.59l7.72-7.72 1.47 1.35L5.41 20z\"/>\n",
              "  </svg>\n",
              "      </button>\n",
              "      \n",
              "  <style>\n",
              "    .colab-df-container {\n",
              "      display:flex;\n",
              "      flex-wrap:wrap;\n",
              "      gap: 12px;\n",
              "    }\n",
              "\n",
              "    .colab-df-convert {\n",
              "      background-color: #E8F0FE;\n",
              "      border: none;\n",
              "      border-radius: 50%;\n",
              "      cursor: pointer;\n",
              "      display: none;\n",
              "      fill: #1967D2;\n",
              "      height: 32px;\n",
              "      padding: 0 0 0 0;\n",
              "      width: 32px;\n",
              "    }\n",
              "\n",
              "    .colab-df-convert:hover {\n",
              "      background-color: #E2EBFA;\n",
              "      box-shadow: 0px 1px 2px rgba(60, 64, 67, 0.3), 0px 1px 3px 1px rgba(60, 64, 67, 0.15);\n",
              "      fill: #174EA6;\n",
              "    }\n",
              "\n",
              "    [theme=dark] .colab-df-convert {\n",
              "      background-color: #3B4455;\n",
              "      fill: #D2E3FC;\n",
              "    }\n",
              "\n",
              "    [theme=dark] .colab-df-convert:hover {\n",
              "      background-color: #434B5C;\n",
              "      box-shadow: 0px 1px 3px 1px rgba(0, 0, 0, 0.15);\n",
              "      filter: drop-shadow(0px 1px 2px rgba(0, 0, 0, 0.3));\n",
              "      fill: #FFFFFF;\n",
              "    }\n",
              "  </style>\n",
              "\n",
              "      <script>\n",
              "        const buttonEl =\n",
              "          document.querySelector('#df-08be485a-6364-4071-91e2-84fe5361638e button.colab-df-convert');\n",
              "        buttonEl.style.display =\n",
              "          google.colab.kernel.accessAllowed ? 'block' : 'none';\n",
              "\n",
              "        async function convertToInteractive(key) {\n",
              "          const element = document.querySelector('#df-08be485a-6364-4071-91e2-84fe5361638e');\n",
              "          const dataTable =\n",
              "            await google.colab.kernel.invokeFunction('convertToInteractive',\n",
              "                                                     [key], {});\n",
              "          if (!dataTable) return;\n",
              "\n",
              "          const docLinkHtml = 'Like what you see? Visit the ' +\n",
              "            '<a target=\"_blank\" href=https://colab.research.google.com/notebooks/data_table.ipynb>data table notebook</a>'\n",
              "            + ' to learn more about interactive tables.';\n",
              "          element.innerHTML = '';\n",
              "          dataTable['output_type'] = 'display_data';\n",
              "          await google.colab.output.renderOutput(dataTable, element);\n",
              "          const docLink = document.createElement('div');\n",
              "          docLink.innerHTML = docLinkHtml;\n",
              "          element.appendChild(docLink);\n",
              "        }\n",
              "      </script>\n",
              "    </div>\n",
              "  </div>\n",
              "  "
            ]
          },
          "metadata": {},
          "execution_count": 3
        }
      ],
      "source": [
        "dataframe.head() #viewing the data"
      ]
    },
    {
      "cell_type": "code",
      "execution_count": 4,
      "metadata": {
        "id": "fpXOcpfNzI8f"
      },
      "outputs": [],
      "source": [
        "X = dataframe.drop(columns=['wage_per_hour']).values\n",
        "Y = dataframe['wage_per_hour'].values"
      ]
    },
    {
      "cell_type": "markdown",
      "metadata": {
        "id": "40hv9uri-goQ"
      },
      "source": [
        "1). The neural network will have 9 inputs, Number of inputs here is the number of features\n",
        "\n",
        "2). The neural network will have 1 output, The predicted salary\n",
        "\n",
        "3). The goal here is to predict the hourly salary or weekly salary or monthly salary of a person given some           characteristics.\n",
        "\n"
      ]
    },
    {
      "cell_type": "markdown",
      "metadata": {
        "id": "ApHPMzh8-goS"
      },
      "source": [
        "## Checking the splitted data"
      ]
    },
    {
      "cell_type": "code",
      "execution_count": 5,
      "metadata": {
        "colab": {
          "base_uri": "https://localhost:8080/"
        },
        "id": "DAoxmvgu-goV",
        "outputId": "c983a545-2e1c-48da-d8a4-d3551f71b1e2"
      },
      "outputs": [
        {
          "output_type": "execute_result",
          "data": {
            "text/plain": [
              "(534, 9)"
            ]
          },
          "metadata": {},
          "execution_count": 5
        }
      ],
      "source": [
        "X.shape #checking the shape of X features"
      ]
    },
    {
      "cell_type": "code",
      "execution_count": 6,
      "metadata": {
        "colab": {
          "base_uri": "https://localhost:8080/"
        },
        "id": "l2QTJSxc-goa",
        "outputId": "a4c723c1-68b8-49d9-ec20-e496198cc8d4"
      },
      "outputs": [
        {
          "output_type": "execute_result",
          "data": {
            "text/plain": [
              "(534,)"
            ]
          },
          "metadata": {},
          "execution_count": 6
        }
      ],
      "source": [
        "Y.shape #Checking the shape of Y output"
      ]
    },
    {
      "cell_type": "code",
      "execution_count": 7,
      "metadata": {
        "colab": {
          "base_uri": "https://localhost:8080/"
        },
        "id": "RYk6i4cj-god",
        "outputId": "3ce8b845-5ed2-49ef-9798-4a00978c574e"
      },
      "outputs": [
        {
          "output_type": "execute_result",
          "data": {
            "text/plain": [
              "array([5.1 , 4.95, 6.67, 4.  , 7.5 ])"
            ]
          },
          "metadata": {},
          "execution_count": 7
        }
      ],
      "source": [
        "Y[0:5] #viewing the first five outputs"
      ]
    },
    {
      "cell_type": "markdown",
      "metadata": {
        "id": "lE4t6t8T-gof"
      },
      "source": [
        "## Splitting data into training and testing"
      ]
    },
    {
      "cell_type": "code",
      "execution_count": 8,
      "metadata": {
        "id": "CGLoEr_t-gog"
      },
      "outputs": [],
      "source": [
        "X_train, X_test, Y_train, Y_test = train_test_split(X, Y, test_size=.3) #Splitting the data"
      ]
    },
    {
      "cell_type": "markdown",
      "metadata": {
        "id": "3cRKg1oK-goi"
      },
      "source": [
        "## Create a neural network model"
      ]
    },
    {
      "cell_type": "code",
      "execution_count": 9,
      "metadata": {
        "id": "GbFRvMuQ-goj"
      },
      "outputs": [],
      "source": [
        "# defining the model\n",
        "def baseline():\n",
        "    # creating the model\n",
        "    model = Sequential()\n",
        "    \n",
        "    #adding a fully connected layer\n",
        "    model.add(Dense(units = 8, input_dim=9, activation='relu'))\n",
        "    \n",
        "    # add a fully connected layer for the output\n",
        "    model.add(Dense(1))\n",
        "    \n",
        "    # Compilling model\n",
        "    model.compile(loss='mse', optimizer='adam',metrics=[metrics.mse])\n",
        "    \n",
        "    return model"
      ]
    },
    {
      "cell_type": "markdown",
      "metadata": {
        "id": "U_6X3L3S-gol"
      },
      "source": [
        "## Initialise model"
      ]
    },
    {
      "cell_type": "code",
      "execution_count": 10,
      "metadata": {
        "id": "67MST3D1-gom"
      },
      "outputs": [],
      "source": [
        "model = baseline() #initialising the model"
      ]
    },
    {
      "cell_type": "markdown",
      "metadata": {
        "id": "mVf-jWgh-gon"
      },
      "source": [
        "## Determine the number of trainable parameters"
      ]
    },
    {
      "cell_type": "code",
      "execution_count": 11,
      "metadata": {
        "colab": {
          "base_uri": "https://localhost:8080/"
        },
        "id": "aWn0rije-gop",
        "outputId": "45f2fdc2-2ecb-4651-bcf9-e04975900db2"
      },
      "outputs": [
        {
          "output_type": "stream",
          "name": "stdout",
          "text": [
            "Model: \"sequential\"\n",
            "_________________________________________________________________\n",
            " Layer (type)                Output Shape              Param #   \n",
            "=================================================================\n",
            " dense (Dense)               (None, 8)                 80        \n",
            "                                                                 \n",
            " dense_1 (Dense)             (None, 1)                 9         \n",
            "                                                                 \n",
            "=================================================================\n",
            "Total params: 89\n",
            "Trainable params: 89\n",
            "Non-trainable params: 0\n",
            "_________________________________________________________________\n"
          ]
        }
      ],
      "source": [
        "model.summary() #model summary  "
      ]
    },
    {
      "cell_type": "markdown",
      "metadata": {
        "id": "cRN1f6iu-goq"
      },
      "source": [
        "## Train the model"
      ]
    },
    {
      "cell_type": "code",
      "execution_count": 12,
      "metadata": {
        "colab": {
          "base_uri": "https://localhost:8080/"
        },
        "id": "egFkmztG-gor",
        "outputId": "703dee8f-aec1-45a8-ccac-83ab3f2c42b3"
      },
      "outputs": [
        {
          "output_type": "stream",
          "name": "stdout",
          "text": [
            "Epoch 1/24\n",
            "94/94 [==============================] - 1s 2ms/step - loss: 40.3111 - mean_squared_error: 40.3111\n",
            "Epoch 2/24\n",
            "94/94 [==============================] - 0s 3ms/step - loss: 29.8172 - mean_squared_error: 29.8172\n",
            "Epoch 3/24\n",
            "94/94 [==============================] - 0s 2ms/step - loss: 27.8998 - mean_squared_error: 27.8998\n",
            "Epoch 4/24\n",
            "94/94 [==============================] - 0s 2ms/step - loss: 26.5716 - mean_squared_error: 26.5716\n",
            "Epoch 5/24\n",
            "94/94 [==============================] - 0s 2ms/step - loss: 25.9390 - mean_squared_error: 25.9390\n",
            "Epoch 6/24\n",
            "94/94 [==============================] - 0s 3ms/step - loss: 25.4208 - mean_squared_error: 25.4208\n",
            "Epoch 7/24\n",
            "94/94 [==============================] - 0s 5ms/step - loss: 25.0445 - mean_squared_error: 25.0445\n",
            "Epoch 8/24\n",
            "94/94 [==============================] - 0s 4ms/step - loss: 24.8275 - mean_squared_error: 24.8275\n",
            "Epoch 9/24\n",
            "94/94 [==============================] - 0s 4ms/step - loss: 24.6504 - mean_squared_error: 24.6504\n",
            "Epoch 10/24\n",
            "94/94 [==============================] - 0s 5ms/step - loss: 24.6481 - mean_squared_error: 24.6481\n",
            "Epoch 11/24\n",
            "94/94 [==============================] - 0s 5ms/step - loss: 24.5935 - mean_squared_error: 24.5935\n",
            "Epoch 12/24\n",
            "94/94 [==============================] - 0s 5ms/step - loss: 24.2849 - mean_squared_error: 24.2849\n",
            "Epoch 13/24\n",
            "94/94 [==============================] - 0s 4ms/step - loss: 24.3193 - mean_squared_error: 24.3193\n",
            "Epoch 14/24\n",
            "94/94 [==============================] - 0s 4ms/step - loss: 24.1157 - mean_squared_error: 24.1157\n",
            "Epoch 15/24\n",
            "94/94 [==============================] - 0s 5ms/step - loss: 24.1825 - mean_squared_error: 24.1825\n",
            "Epoch 16/24\n",
            "94/94 [==============================] - 0s 4ms/step - loss: 24.5528 - mean_squared_error: 24.5528\n",
            "Epoch 17/24\n",
            "94/94 [==============================] - 0s 3ms/step - loss: 23.9812 - mean_squared_error: 23.9812\n",
            "Epoch 18/24\n",
            "94/94 [==============================] - 0s 3ms/step - loss: 23.8351 - mean_squared_error: 23.8351\n",
            "Epoch 19/24\n",
            "94/94 [==============================] - 0s 4ms/step - loss: 24.0042 - mean_squared_error: 24.0042\n",
            "Epoch 20/24\n",
            "94/94 [==============================] - 0s 4ms/step - loss: 23.6323 - mean_squared_error: 23.6323\n",
            "Epoch 21/24\n",
            "94/94 [==============================] - 0s 4ms/step - loss: 23.7730 - mean_squared_error: 23.7730\n",
            "Epoch 22/24\n",
            "94/94 [==============================] - 0s 3ms/step - loss: 23.8198 - mean_squared_error: 23.8198\n",
            "Epoch 23/24\n",
            "94/94 [==============================] - 0s 4ms/step - loss: 23.5260 - mean_squared_error: 23.5260\n",
            "Epoch 24/24\n",
            "94/94 [==============================] - 0s 4ms/step - loss: 23.5635 - mean_squared_error: 23.5635\n"
          ]
        }
      ],
      "source": [
        "history = model.fit(X_train, Y_train, epochs=24, batch_size=4, verbose=1) #training the model over 24 epochs"
      ]
    },
    {
      "cell_type": "markdown",
      "metadata": {
        "id": "CDpcVIWq-gos"
      },
      "source": [
        "## Predict on the test data"
      ]
    },
    {
      "cell_type": "code",
      "execution_count": 13,
      "metadata": {
        "colab": {
          "base_uri": "https://localhost:8080/"
        },
        "id": "1pe3ih3y-got",
        "outputId": "ae8d9a8d-7447-47d4-e9e8-1ecfdead40a5"
      },
      "outputs": [
        {
          "output_type": "stream",
          "name": "stdout",
          "text": [
            "6/6 [==============================] - 0s 5ms/step\n"
          ]
        }
      ],
      "source": [
        "prediction = model.predict(X_test) #predicting the test data"
      ]
    },
    {
      "cell_type": "markdown",
      "metadata": {
        "id": "C1AEpN7R-got"
      },
      "source": [
        "## Compute the mean squared error"
      ]
    },
    {
      "cell_type": "code",
      "execution_count": 14,
      "metadata": {
        "colab": {
          "base_uri": "https://localhost:8080/"
        },
        "id": "vRs6gtvA-gou",
        "outputId": "83daa56e-d052-4b8c-f085-86661112b13c"
      },
      "outputs": [
        {
          "output_type": "execute_result",
          "data": {
            "text/plain": [
              "15.16761658863278"
            ]
          },
          "metadata": {},
          "execution_count": 14
        }
      ],
      "source": [
        "mean_squared_error(Y_test, prediction) #getting the mean squared error"
      ]
    },
    {
      "cell_type": "markdown",
      "metadata": {
        "id": "3q14lDzm-gov"
      },
      "source": [
        "## Plot the error over the epochs"
      ]
    },
    {
      "cell_type": "code",
      "execution_count": 15,
      "metadata": {
        "colab": {
          "base_uri": "https://localhost:8080/",
          "height": 513
        },
        "id": "MLgjmGhW-gow",
        "outputId": "38a23712-6682-4519-edae-11b9e4efb377"
      },
      "outputs": [
        {
          "output_type": "display_data",
          "data": {
            "text/plain": [
              "<Figure size 576x576 with 1 Axes>"
            ],
            "image/png": "[encoded data removed]"
          },
          "metadata": {
            "needs_background": "light"
          }
        }
      ],
      "source": [
        "#plotting the error on different epochs\n",
        "plt.figure(figsize=(8, 8))\n",
        "plt.plot(history.history['mean_squared_error'])\n",
        "plt.title('Model loss')\n",
        "plt.ylabel('Mean Squared Error')\n",
        "plt.xlabel('Epoch')\n",
        "plt.show()"
      ]
    }
  ],
  "metadata": {
    "colab": {
      "provenance": []
    },
    "kernelspec": {
      "display_name": "Python 3",
      "language": "python",
      "name": "python3"
    },
    "language_info": {
      "codemirror_mode": {
        "name": "ipython",
        "version": 3
      },
      "file_extension": ".py",
      "mimetype": "text/x-python",
      "name": "python",
      "nbconvert_exporter": "python",
      "pygments_lexer": "ipython3",
      "version": "3.9.2"
    }
  },
  "nbformat": 4,
  "nbformat_minor": 0
}