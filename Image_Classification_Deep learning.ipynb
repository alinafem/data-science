{
  "cells": [
    {
      "cell_type": "code",
      "execution_count": 1,
      "metadata": {
        "id": "EVN73DqOi6jc"
      },
      "outputs": [],
      "source": [
        "#importing necessary libraries\n",
        "from tensorflow.keras.models import Sequential\n",
        "from tensorflow.keras.layers import Dense, Conv2D, MaxPool2D, Flatten, Dropout\n",
        "from tensorflow.keras.losses import CategoricalCrossentropy\n",
        "from tensorflow.keras.optimizers import SGD\n",
        "from tensorflow.keras.datasets import fashion_mnist\n",
        "from tensorflow.keras.callbacks import ModelCheckpoint\n",
        "import numpy as np\n",
        "import matplotlib.pyplot as plt\n",
        "from keras.utils import np_utils\n",
        "from sklearn.metrics import accuracy_score, confusion_matrix\n",
        "from tensorflow.keras.utils import to_categorical\n",
        "from sklearn.model_selection import train_test_split\n",
        "from sklearn.preprocessing import LabelEncoder\n",
        "import pandas as pd\n",
        "%matplotlib inline"
      ]
    },
    {
      "cell_type": "code",
      "execution_count": 2,
      "metadata": {
        "id": "nvCXvXq5mP7p"
      },
      "outputs": [],
      "source": [
        "from keras.datasets import cifar10 #importing cifar10 dataset from kerar"
      ]
    },
    {
      "cell_type": "markdown",
      "metadata": {
        "id": "X1GTR35cmP7v"
      },
      "source": [
        "## Load the dataset"
      ]
    },
    {
      "cell_type": "code",
      "execution_count": 3,
      "metadata": {
        "id": "uQ_KjFJomP7x",
        "colab": {
          "base_uri": "https://localhost:8080/"
        },
        "outputId": "e98ee76b-f317-4b16-c9dc-34cfc0e132a3"
      },
      "outputs": [
        {
          "output_type": "stream",
          "name": "stdout",
          "text": [
            "Downloading data from https://www.cs.toronto.edu/~kriz/cifar-10-python.tar.gz\n",
            "170498071/170498071 [==============================] - 6s 0us/step\n"
          ]
        }
      ],
      "source": [
        "(X_train, Y_train), (X_test, Y_test) = cifar10.load_data() #loading the dataset"
      ]
    },
    {
      "cell_type": "markdown",
      "metadata": {
        "id": "PmWKOEIrg-mj"
      },
      "source": [
        "##preprocessing\n",
        "\n"
      ]
    },
    {
      "cell_type": "code",
      "execution_count": 4,
      "metadata": {
        "id": "Or94V_cAGACd",
        "colab": {
          "base_uri": "https://localhost:8080/"
        },
        "outputId": "f65f13f3-1e1a-4838-8b8e-433554a25277"
      },
      "outputs": [
        {
          "output_type": "stream",
          "name": "stdout",
          "text": [
            "Training data shape :  (50000, 32, 32, 3) (50000, 1)\n"
          ]
        }
      ],
      "source": [
        "print('Training data shape : ', X_train.shape, Y_train.shape) #checking the shapes of training data"
      ]
    },
    {
      "cell_type": "code",
      "execution_count": 5,
      "metadata": {
        "colab": {
          "base_uri": "https://localhost:8080/"
        },
        "id": "rUVKsiMKi6jy",
        "outputId": "5e081de2-262c-43f0-eab2-64a06b3cf801"
      },
      "outputs": [
        {
          "output_type": "stream",
          "name": "stdout",
          "text": [
            "Testing data shape :  (10000, 32, 32, 3) (10000, 1)\n"
          ]
        }
      ],
      "source": [
        "print('Testing data shape : ', X_test.shape, Y_test.shape) #checking shapes of the testing data"
      ]
    },
    {
      "cell_type": "code",
      "execution_count": 6,
      "metadata": {
        "colab": {
          "base_uri": "https://localhost:8080/"
        },
        "id": "0bnoaE1ni6j1",
        "outputId": "7259e31d-6404-4901-80c5-3d6e01c7a61a"
      },
      "outputs": [
        {
          "output_type": "stream",
          "name": "stdout",
          "text": [
            "Total number of outputs :  10\n",
            "Output classes :  [0 1 2 3 4 5 6 7 8 9]\n"
          ]
        }
      ],
      "source": [
        "#checking the number of classes and showing them\n",
        "classes = np.unique(Y_train)\n",
        "nClasses = len(classes)\n",
        "print('Total number of outputs : ', nClasses)\n",
        "print('Output classes : ', classes)"
      ]
    },
    {
      "cell_type": "code",
      "execution_count": 7,
      "metadata": {
        "colab": {
          "base_uri": "https://localhost:8080/",
          "height": 335
        },
        "id": "s_lBTvhQi6j5",
        "outputId": "3b417847-44e4-46a7-fa66-9bdb2340493f"
      },
      "outputs": [
        {
          "output_type": "execute_result",
          "data": {
            "text/plain": [
              "Text(0.5, 1.0, 'Ground Truth : [8]')"
            ]
          },
          "metadata": {},
          "execution_count": 7
        },
        {
          "output_type": "display_data",
          "data": {
            "text/plain": [
              "<Figure size 720x360 with 2 Axes>"
            ],
            "image/png": "[encoded data removed]"
          },
          "metadata": {
            "needs_background": "light"
          }
        }
      ],
      "source": [
        "data_point=120\n",
        "plt.figure(figsize=[10,5])\n",
        " \n",
        "# Display the first image in training data\n",
        "plt.subplot(121)\n",
        "plt.imshow(X_train[data_point,:,:], cmap='gray')\n",
        "plt.title(\"Ground Truth : {}\".format(Y_train[data_point]))\n",
        " \n",
        "# Display the first image in testing data\n",
        "plt.subplot(122)\n",
        "plt.imshow(X_test[data_point,:,:], cmap='gray')\n",
        "plt.title(\"Ground Truth : {}\".format(Y_test[data_point]))"
      ]
    },
    {
      "cell_type": "code",
      "execution_count": 8,
      "metadata": {
        "id": "lPPsc956i6j9"
      },
      "outputs": [],
      "source": [
        "#Reshaping X_train data\n",
        "\n",
        "X_train_reshaped=np.reshape(X_train,(50000, 32, 32, 3))\n"
      ]
    },
    {
      "cell_type": "code",
      "execution_count": 9,
      "metadata": {
        "colab": {
          "base_uri": "https://localhost:8080/"
        },
        "id": "57qBPivIi6j_",
        "outputId": "e9bede7e-4134-44ac-f2a3-3fad3f00ad8a"
      },
      "outputs": [
        {
          "output_type": "execute_result",
          "data": {
            "text/plain": [
              "(50000, 32, 32, 3)"
            ]
          },
          "metadata": {},
          "execution_count": 9
        }
      ],
      "source": [
        "X_train.shape"
      ]
    },
    {
      "cell_type": "code",
      "execution_count": 10,
      "metadata": {
        "id": "aBt-b6Uni6kB"
      },
      "outputs": [],
      "source": [
        "#Reshaping X_text data\n",
        "X_test_reshaped=np.reshape(X_test,(10000, 32, 32, 3))"
      ]
    },
    {
      "cell_type": "code",
      "execution_count": 11,
      "metadata": {
        "colab": {
          "base_uri": "https://localhost:8080/"
        },
        "id": "GYRw34_Li6kD",
        "outputId": "b2975ae8-34bb-47aa-f196-5fcddd29842d"
      },
      "outputs": [
        {
          "output_type": "execute_result",
          "data": {
            "text/plain": [
              "array([[[ 59,  62,  63],\n",
              "        [ 43,  46,  45],\n",
              "        [ 50,  48,  43],\n",
              "        ...,\n",
              "        [158, 132, 108],\n",
              "        [152, 125, 102],\n",
              "        [148, 124, 103]],\n",
              "\n",
              "       [[ 16,  20,  20],\n",
              "        [  0,   0,   0],\n",
              "        [ 18,   8,   0],\n",
              "        ...,\n",
              "        [123,  88,  55],\n",
              "        [119,  83,  50],\n",
              "        [122,  87,  57]],\n",
              "\n",
              "       [[ 25,  24,  21],\n",
              "        [ 16,   7,   0],\n",
              "        [ 49,  27,   8],\n",
              "        ...,\n",
              "        [118,  84,  50],\n",
              "        [120,  84,  50],\n",
              "        [109,  73,  42]],\n",
              "\n",
              "       ...,\n",
              "\n",
              "       [[208, 170,  96],\n",
              "        [201, 153,  34],\n",
              "        [198, 161,  26],\n",
              "        ...,\n",
              "        [160, 133,  70],\n",
              "        [ 56,  31,   7],\n",
              "        [ 53,  34,  20]],\n",
              "\n",
              "       [[180, 139,  96],\n",
              "        [173, 123,  42],\n",
              "        [186, 144,  30],\n",
              "        ...,\n",
              "        [184, 148,  94],\n",
              "        [ 97,  62,  34],\n",
              "        [ 83,  53,  34]],\n",
              "\n",
              "       [[177, 144, 116],\n",
              "        [168, 129,  94],\n",
              "        [179, 142,  87],\n",
              "        ...,\n",
              "        [216, 184, 140],\n",
              "        [151, 118,  84],\n",
              "        [123,  92,  72]]], dtype=uint8)"
            ]
          },
          "metadata": {},
          "execution_count": 11
        }
      ],
      "source": [
        "X_train[0] #viewing X_train data"
      ]
    },
    {
      "cell_type": "code",
      "execution_count": 12,
      "metadata": {
        "colab": {
          "base_uri": "https://localhost:8080/"
        },
        "id": "0PoynuYNi6kF",
        "outputId": "5f718fe9-8fe2-4390-9a0d-06d0e03fc839"
      },
      "outputs": [
        {
          "output_type": "execute_result",
          "data": {
            "text/plain": [
              "255"
            ]
          },
          "metadata": {},
          "execution_count": 12
        }
      ],
      "source": [
        "np.max(X_train[0]) #looking for the maximum value in X_train"
      ]
    },
    {
      "cell_type": "code",
      "execution_count": 13,
      "metadata": {
        "id": "x0dLr_pKi6kG"
      },
      "outputs": [],
      "source": [
        "#Normalizing X_train and X_test data\n",
        "X_train = X_train / 255\n",
        "X_test = X_test / 255"
      ]
    },
    {
      "cell_type": "code",
      "execution_count": 14,
      "metadata": {
        "id": "l2vPVCRWi6kH"
      },
      "outputs": [],
      "source": [
        "#splitting X_train and Y_train to have validation data\n",
        "X_train, X_val, Y_train, Y_val=train_test_split(X_train, Y_train, test_size=0.3) "
      ]
    },
    {
      "cell_type": "code",
      "execution_count": 15,
      "metadata": {
        "id": "UdPCQ-2Yi6kI"
      },
      "outputs": [],
      "source": [
        "#perfoming One_hot ecoding \n",
        "Y_train = np_utils.to_categorical(Y_train, 10)\n",
        "Y_test = np_utils.to_categorical(Y_test, 10)\n",
        "num_classes = 10"
      ]
    },
    {
      "cell_type": "markdown",
      "metadata": {
        "id": "VungsdeHmP8u"
      },
      "source": [
        "## convolutional neural network\n",
        "\n"
      ]
    },
    {
      "cell_type": "code",
      "execution_count": 16,
      "metadata": {
        "id": "gozmsPxhmP8v"
      },
      "outputs": [],
      "source": [
        "def baseline_model():\n",
        "    # create model\n",
        "    model = Sequential()\n",
        "    \n",
        "    # Since this is the first layer, we need to specify the input shape. Only here, only once.\n",
        "    # We are creating 64 filters each of size 2x2. What will be the depth of each of those 64 filters?\n",
        "    # What will be the resulting depth of the feature map after applying these filters?\n",
        "\n",
        "    # \"valid\" means no padding. \"same\" results in padding with zeros evenly to the \n",
        "    # left/right or up/down of the input such that output has the same height/width dimension as the input. \n",
        "    model.add(Conv2D(filters=64, kernel_size=2, activation='relu', input_shape=(32,32,3))) \n",
        "    \n",
        "    # Here we create a 2x2 max pooling layer\n",
        "    model.add(MaxPool2D(pool_size=2))\n",
        "\n",
        "    model.add(Conv2D(filters=110, kernel_size=2, padding='same', activation='relu')) \n",
        "    model.add(MaxPool2D(pool_size=2))\n",
        "    model.add(Conv2D(filters=110, kernel_size=2, padding='same', activation='relu')) \n",
        "    model.add(MaxPool2D(pool_size=2))\n",
        "\n",
        "    # In order to pass output from the convolutional block to the dense block, we must flatten each example in the minibatch. \n",
        "    model.add(Flatten())\n",
        "    \n",
        "    model.add(Dense(512, activation='relu'))\n",
        "\n",
        "    model.add(Dropout(0.5))\n",
        "    \n",
        "    model.add(Dense(10, activation='softmax'))\n",
        "\n",
        "    loss = CategoricalCrossentropy()\n",
        "    \n",
        "    # Compile the model\n",
        "    model.compile(loss=loss,\n",
        "             optimizer='adam',\n",
        "             metrics=['accuracy'])\n",
        "    return model"
      ]
    },
    {
      "cell_type": "code",
      "source": [
        "model = baseline_model()"
      ],
      "metadata": {
        "id": "3ESGTLxMk_mf"
      },
      "execution_count": 17,
      "outputs": []
    },
    {
      "cell_type": "markdown",
      "metadata": {
        "id": "bUN6K31smP80"
      },
      "source": [
        "## Number of trainable parameters"
      ]
    },
    {
      "cell_type": "code",
      "execution_count": 18,
      "metadata": {
        "id": "_DxDanOHmP80",
        "colab": {
          "base_uri": "https://localhost:8080/"
        },
        "outputId": "b1a531aa-f437-4628-9bc7-90f9c4a53e2a"
      },
      "outputs": [
        {
          "output_type": "stream",
          "name": "stdout",
          "text": [
            "Model: \"sequential\"\n",
            "_________________________________________________________________\n",
            " Layer (type)                Output Shape              Param #   \n",
            "=================================================================\n",
            " conv2d (Conv2D)             (None, 31, 31, 64)        832       \n",
            "                                                                 \n",
            " max_pooling2d (MaxPooling2D  (None, 15, 15, 64)       0         \n",
            " )                                                               \n",
            "                                                                 \n",
            " conv2d_1 (Conv2D)           (None, 15, 15, 110)       28270     \n",
            "                                                                 \n",
            " max_pooling2d_1 (MaxPooling  (None, 7, 7, 110)        0         \n",
            " 2D)                                                             \n",
            "                                                                 \n",
            " conv2d_2 (Conv2D)           (None, 7, 7, 110)         48510     \n",
            "                                                                 \n",
            " max_pooling2d_2 (MaxPooling  (None, 3, 3, 110)        0         \n",
            " 2D)                                                             \n",
            "                                                                 \n",
            " flatten (Flatten)           (None, 990)               0         \n",
            "                                                                 \n",
            " dense (Dense)               (None, 512)               507392    \n",
            "                                                                 \n",
            " dropout (Dropout)           (None, 512)               0         \n",
            "                                                                 \n",
            " dense_1 (Dense)             (None, 10)                5130      \n",
            "                                                                 \n",
            "=================================================================\n",
            "Total params: 590,134\n",
            "Trainable params: 590,134\n",
            "Non-trainable params: 0\n",
            "_________________________________________________________________\n"
          ]
        }
      ],
      "source": [
        "model.summary() #model summary"
      ]
    },
    {
      "cell_type": "code",
      "source": [
        "#saving weights in the created folder\n",
        "checkpoint_path = \"training/cp-{epoch:04d}.ckpt\"\n",
        "\n",
        "cp_callback = ModelCheckpoint(filepath=checkpoint_path, \n",
        "                              save_best_only=True, \n",
        "                              save_weights_only=True, \n",
        "                              verbose=1)"
      ],
      "metadata": {
        "id": "uumqU7hvlLVO"
      },
      "execution_count": 19,
      "outputs": []
    },
    {
      "cell_type": "markdown",
      "metadata": {
        "id": "ifPs0mftmP84"
      },
      "source": [
        "## Training the model\n"
      ]
    },
    {
      "cell_type": "code",
      "execution_count": 20,
      "metadata": {
        "id": "j8RZc1rhmP84",
        "colab": {
          "base_uri": "https://localhost:8080/"
        },
        "outputId": "ced84e8e-1722-4a20-868a-5a19e3f4847c"
      },
      "outputs": [
        {
          "output_type": "stream",
          "name": "stdout",
          "text": [
            "Epoch 1/15\n",
            "110/110 [==============================] - ETA: 0s - loss: 1.8589 - accuracy: 0.3204\n",
            "Epoch 1: val_loss improved from inf to 1.50682, saving model to training/cp-0001.ckpt\n",
            "110/110 [==============================] - 14s 29ms/step - loss: 1.8589 - accuracy: 0.3204 - val_loss: 1.5068 - val_accuracy: 0.4487\n",
            "Epoch 2/15\n",
            "109/110 [============================>.] - ETA: 0s - loss: 1.4611 - accuracy: 0.4688\n",
            "Epoch 2: val_loss improved from 1.50682 to 1.34452, saving model to training/cp-0002.ckpt\n",
            "110/110 [==============================] - 2s 19ms/step - loss: 1.4610 - accuracy: 0.4691 - val_loss: 1.3445 - val_accuracy: 0.5264\n",
            "Epoch 3/15\n",
            "109/110 [============================>.] - ETA: 0s - loss: 1.3214 - accuracy: 0.5273\n",
            "Epoch 3: val_loss improved from 1.34452 to 1.19842, saving model to training/cp-0003.ckpt\n",
            "110/110 [==============================] - 2s 20ms/step - loss: 1.3204 - accuracy: 0.5277 - val_loss: 1.1984 - val_accuracy: 0.5677\n",
            "Epoch 4/15\n",
            "110/110 [==============================] - ETA: 0s - loss: 1.2193 - accuracy: 0.5686\n",
            "Epoch 4: val_loss improved from 1.19842 to 1.13291, saving model to training/cp-0004.ckpt\n",
            "110/110 [==============================] - 2s 19ms/step - loss: 1.2193 - accuracy: 0.5686 - val_loss: 1.1329 - val_accuracy: 0.5977\n",
            "Epoch 5/15\n",
            "109/110 [============================>.] - ETA: 0s - loss: 1.1425 - accuracy: 0.5958\n",
            "Epoch 5: val_loss improved from 1.13291 to 1.07114, saving model to training/cp-0005.ckpt\n",
            "110/110 [==============================] - 2s 19ms/step - loss: 1.1429 - accuracy: 0.5956 - val_loss: 1.0711 - val_accuracy: 0.6256\n",
            "Epoch 6/15\n",
            "109/110 [============================>.] - ETA: 0s - loss: 1.0702 - accuracy: 0.6226\n",
            "Epoch 6: val_loss improved from 1.07114 to 1.02784, saving model to training/cp-0006.ckpt\n",
            "110/110 [==============================] - 2s 20ms/step - loss: 1.0696 - accuracy: 0.6227 - val_loss: 1.0278 - val_accuracy: 0.6360\n",
            "Epoch 7/15\n",
            "108/110 [============================>.] - ETA: 0s - loss: 1.0097 - accuracy: 0.6460\n",
            "Epoch 7: val_loss improved from 1.02784 to 0.98263, saving model to training/cp-0007.ckpt\n",
            "110/110 [==============================] - 2s 19ms/step - loss: 1.0106 - accuracy: 0.6452 - val_loss: 0.9826 - val_accuracy: 0.6566\n",
            "Epoch 8/15\n",
            "108/110 [============================>.] - ETA: 0s - loss: 0.9614 - accuracy: 0.6635\n",
            "Epoch 8: val_loss improved from 0.98263 to 0.93436, saving model to training/cp-0008.ckpt\n",
            "110/110 [==============================] - 2s 20ms/step - loss: 0.9620 - accuracy: 0.6634 - val_loss: 0.9344 - val_accuracy: 0.6724\n",
            "Epoch 9/15\n",
            "110/110 [==============================] - ETA: 0s - loss: 0.9232 - accuracy: 0.6765\n",
            "Epoch 9: val_loss improved from 0.93436 to 0.92470, saving model to training/cp-0009.ckpt\n",
            "110/110 [==============================] - 2s 19ms/step - loss: 0.9232 - accuracy: 0.6765 - val_loss: 0.9247 - val_accuracy: 0.6739\n",
            "Epoch 10/15\n",
            "108/110 [============================>.] - ETA: 0s - loss: 0.8759 - accuracy: 0.6943\n",
            "Epoch 10: val_loss did not improve from 0.92470\n",
            "110/110 [==============================] - 2s 20ms/step - loss: 0.8755 - accuracy: 0.6942 - val_loss: 0.9272 - val_accuracy: 0.6787\n",
            "Epoch 11/15\n",
            "108/110 [============================>.] - ETA: 0s - loss: 0.8367 - accuracy: 0.7071\n",
            "Epoch 11: val_loss improved from 0.92470 to 0.87814, saving model to training/cp-0011.ckpt\n",
            "110/110 [==============================] - 2s 20ms/step - loss: 0.8372 - accuracy: 0.7067 - val_loss: 0.8781 - val_accuracy: 0.6934\n",
            "Epoch 12/15\n",
            "108/110 [============================>.] - ETA: 0s - loss: 0.8067 - accuracy: 0.7157\n",
            "Epoch 12: val_loss improved from 0.87814 to 0.86111, saving model to training/cp-0012.ckpt\n",
            "110/110 [==============================] - 2s 19ms/step - loss: 0.8071 - accuracy: 0.7157 - val_loss: 0.8611 - val_accuracy: 0.6963\n",
            "Epoch 13/15\n",
            "109/110 [============================>.] - ETA: 0s - loss: 0.7730 - accuracy: 0.7282\n",
            "Epoch 13: val_loss improved from 0.86111 to 0.84602, saving model to training/cp-0013.ckpt\n",
            "110/110 [==============================] - 2s 19ms/step - loss: 0.7731 - accuracy: 0.7281 - val_loss: 0.8460 - val_accuracy: 0.7003\n",
            "Epoch 14/15\n",
            "109/110 [============================>.] - ETA: 0s - loss: 0.7384 - accuracy: 0.7415\n",
            "Epoch 14: val_loss did not improve from 0.84602\n",
            "110/110 [==============================] - 2s 19ms/step - loss: 0.7385 - accuracy: 0.7415 - val_loss: 0.8692 - val_accuracy: 0.6979\n",
            "Epoch 15/15\n",
            "108/110 [============================>.] - ETA: 0s - loss: 0.6946 - accuracy: 0.7575\n",
            "Epoch 15: val_loss did not improve from 0.84602\n",
            "110/110 [==============================] - 2s 19ms/step - loss: 0.6949 - accuracy: 0.7573 - val_loss: 0.8485 - val_accuracy: 0.7044\n"
          ]
        },
        {
          "output_type": "execute_result",
          "data": {
            "text/plain": [
              "<keras.callbacks.History at 0x7f94c0329110>"
            ]
          },
          "metadata": {},
          "execution_count": 20
        }
      ],
      "source": [
        "#Training the model\n",
        "history= model.fit(X_train, Y_train, validation_split=0.2, epochs=15, batch_size=256, verbose=1, callbacks=[cp_callback])\n",
        "\n",
        "history"
      ]
    },
    {
      "cell_type": "code",
      "source": [
        "correct_values = np.argmax(Y_test,axis=1)"
      ],
      "metadata": {
        "id": "hKkPiYNWlbu2"
      },
      "execution_count": 21,
      "outputs": []
    },
    {
      "cell_type": "code",
      "source": [
        "# New random initialisation\n",
        "model = baseline_model()\n",
        "\n",
        "predictions = model.predict(X_test)\n",
        "predictions = np.argmax(predictions, axis=-1)\n",
        "\n",
        "accuracy_score(predictions,correct_values)*100 #accuracy of the predictions"
      ],
      "metadata": {
        "colab": {
          "base_uri": "https://localhost:8080/"
        },
        "id": "W_Nh-8hEldbT",
        "outputId": "f85e420b-3c34-434b-9235-d99d931a1e8d"
      },
      "execution_count": 22,
      "outputs": [
        {
          "output_type": "stream",
          "name": "stdout",
          "text": [
            "313/313 [==============================] - 1s 2ms/step\n"
          ]
        },
        {
          "output_type": "execute_result",
          "data": {
            "text/plain": [
              "13.530000000000001"
            ]
          },
          "metadata": {},
          "execution_count": 22
        }
      ]
    },
    {
      "cell_type": "markdown",
      "metadata": {
        "id": "74HVbElsaATP"
      },
      "source": [
        "## performance\n",
        "\n",
        "Plot the training and validation accuracy in a single plot"
      ]
    },
    {
      "cell_type": "code",
      "execution_count": 23,
      "metadata": {
        "id": "6CWx4k0sKqLK",
        "colab": {
          "base_uri": "https://localhost:8080/",
          "height": 295
        },
        "outputId": "6ecf6ec5-a934-4cd3-86de-b444703441aa"
      },
      "outputs": [
        {
          "output_type": "display_data",
          "data": {
            "text/plain": [
              "<Figure size 432x288 with 1 Axes>"
            ],
            "image/png": "[encoded data removed]"
          },
          "metadata": {
            "needs_background": "light"
          }
        }
      ],
      "source": [
        "#plotting the perfomance in all the epochs\n",
        "train_accuracy = history.history['accuracy']\n",
        "Val_accuracy = history.history['val_accuracy']\n",
        "epochs = range(0,15)\n",
        "plt.plot( epochs, train_accuracy, label='Training accuracy')\n",
        "plt.plot(epochs, Val_accuracy, label='validation accuracy')\n",
        "plt.title('Training and Validation accuracy')\n",
        "plt.xlabel('Epochs')\n",
        "plt.ylabel('accuracy')\n",
        "plt.legend()\n",
        "plt.show()"
      ]
    },
    {
      "cell_type": "markdown",
      "metadata": {
        "id": "_j9LecHgmP8_"
      },
      "source": [
        "## Predicting on the test data"
      ]
    },
    {
      "cell_type": "code",
      "execution_count": 24,
      "metadata": {
        "id": "7TtfkDWjmP8_",
        "colab": {
          "base_uri": "https://localhost:8080/"
        },
        "outputId": "161c7336-5f44-42bd-8a06-9f8820bcc309"
      },
      "outputs": [
        {
          "output_type": "stream",
          "name": "stdout",
          "text": [
            "1/1 [==============================] - 0s 49ms/step\n"
          ]
        },
        {
          "output_type": "execute_result",
          "data": {
            "text/plain": [
              "array([[0.1061362 , 0.09734968, 0.0869873 , 0.09836262, 0.09604689,\n",
              "        0.10525039, 0.10225845, 0.10169587, 0.11277351, 0.09313902]],\n",
              "      dtype=float32)"
            ]
          },
          "metadata": {},
          "execution_count": 24
        }
      ],
      "source": [
        "#predicting on first 10 inputs\n",
        "model.predict(np.expand_dims(X_test[0], axis=0)) "
      ]
    },
    {
      "cell_type": "markdown",
      "metadata": {
        "id": "yo4UgmBvmP9F"
      },
      "source": [
        "## Computing the accuracy\n",
        "\n"
      ]
    },
    {
      "cell_type": "code",
      "execution_count": 25,
      "metadata": {
        "id": "NwJwKLwRmP9G",
        "colab": {
          "base_uri": "https://localhost:8080/",
          "height": 380
        },
        "outputId": "64fc7123-2456-4a2e-99a0-df10b879ec06"
      },
      "outputs": [
        {
          "output_type": "error",
          "ename": "NotFoundError",
          "evalue": "ignored",
          "traceback": [
            "\u001b[0;31m---------------------------------------------------------------------------\u001b[0m",
            "\u001b[0;31mNotFoundError\u001b[0m                             Traceback (most recent call last)",
            "\u001b[0;32m<ipython-input-25-bb2ddaf1fb95>\u001b[0m in \u001b[0;36m<module>\u001b[0;34m\u001b[0m\n\u001b[1;32m      1\u001b[0m \u001b[0;31m# Load a trained model from the 14th checkpoint\u001b[0m\u001b[0;34m\u001b[0m\u001b[0;34m\u001b[0m\u001b[0;34m\u001b[0m\u001b[0m\n\u001b[1;32m      2\u001b[0m \u001b[0mmodel\u001b[0m \u001b[0;34m=\u001b[0m \u001b[0mbaseline_model\u001b[0m\u001b[0;34m(\u001b[0m\u001b[0;34m)\u001b[0m\u001b[0;34m\u001b[0m\u001b[0;34m\u001b[0m\u001b[0m\n\u001b[0;32m----> 3\u001b[0;31m \u001b[0mmodel\u001b[0m\u001b[0;34m.\u001b[0m\u001b[0mload_weights\u001b[0m\u001b[0;34m(\u001b[0m\u001b[0;34m\"training/cp-0014.ckpt\"\u001b[0m\u001b[0;34m)\u001b[0m\u001b[0;34m\u001b[0m\u001b[0;34m\u001b[0m\u001b[0m\n\u001b[0m\u001b[1;32m      4\u001b[0m \u001b[0;34m\u001b[0m\u001b[0m\n\u001b[1;32m      5\u001b[0m \u001b[0mpredictions\u001b[0m \u001b[0;34m=\u001b[0m \u001b[0mmodel\u001b[0m\u001b[0;34m.\u001b[0m\u001b[0mpredict\u001b[0m\u001b[0;34m(\u001b[0m\u001b[0mX_test\u001b[0m\u001b[0;34m)\u001b[0m\u001b[0;34m\u001b[0m\u001b[0;34m\u001b[0m\u001b[0m\n",
            "\u001b[0;32m/usr/local/lib/python3.7/dist-packages/keras/utils/traceback_utils.py\u001b[0m in \u001b[0;36merror_handler\u001b[0;34m(*args, **kwargs)\u001b[0m\n\u001b[1;32m     65\u001b[0m     \u001b[0;32mexcept\u001b[0m \u001b[0mException\u001b[0m \u001b[0;32mas\u001b[0m \u001b[0me\u001b[0m\u001b[0;34m:\u001b[0m  \u001b[0;31m# pylint: disable=broad-except\u001b[0m\u001b[0;34m\u001b[0m\u001b[0;34m\u001b[0m\u001b[0m\n\u001b[1;32m     66\u001b[0m       \u001b[0mfiltered_tb\u001b[0m \u001b[0;34m=\u001b[0m \u001b[0m_process_traceback_frames\u001b[0m\u001b[0;34m(\u001b[0m\u001b[0me\u001b[0m\u001b[0;34m.\u001b[0m\u001b[0m__traceback__\u001b[0m\u001b[0;34m)\u001b[0m\u001b[0;34m\u001b[0m\u001b[0;34m\u001b[0m\u001b[0m\n\u001b[0;32m---> 67\u001b[0;31m       \u001b[0;32mraise\u001b[0m \u001b[0me\u001b[0m\u001b[0;34m.\u001b[0m\u001b[0mwith_traceback\u001b[0m\u001b[0;34m(\u001b[0m\u001b[0mfiltered_tb\u001b[0m\u001b[0;34m)\u001b[0m \u001b[0;32mfrom\u001b[0m \u001b[0;32mNone\u001b[0m\u001b[0;34m\u001b[0m\u001b[0;34m\u001b[0m\u001b[0m\n\u001b[0m\u001b[1;32m     68\u001b[0m     \u001b[0;32mfinally\u001b[0m\u001b[0;34m:\u001b[0m\u001b[0;34m\u001b[0m\u001b[0;34m\u001b[0m\u001b[0m\n\u001b[1;32m     69\u001b[0m       \u001b[0;32mdel\u001b[0m \u001b[0mfiltered_tb\u001b[0m\u001b[0;34m\u001b[0m\u001b[0;34m\u001b[0m\u001b[0m\n",
            "\u001b[0;32m/usr/local/lib/python3.7/dist-packages/tensorflow/python/training/py_checkpoint_reader.py\u001b[0m in \u001b[0;36merror_translator\u001b[0;34m(e)\u001b[0m\n\u001b[1;32m     29\u001b[0m       \u001b[0;34m'Failed to find any '\u001b[0m\u001b[0;34m\u001b[0m\u001b[0;34m\u001b[0m\u001b[0m\n\u001b[1;32m     30\u001b[0m       'matching files for') in error_message:\n\u001b[0;32m---> 31\u001b[0;31m     \u001b[0;32mraise\u001b[0m \u001b[0merrors_impl\u001b[0m\u001b[0;34m.\u001b[0m\u001b[0mNotFoundError\u001b[0m\u001b[0;34m(\u001b[0m\u001b[0;32mNone\u001b[0m\u001b[0;34m,\u001b[0m \u001b[0;32mNone\u001b[0m\u001b[0;34m,\u001b[0m \u001b[0merror_message\u001b[0m\u001b[0;34m)\u001b[0m\u001b[0;34m\u001b[0m\u001b[0;34m\u001b[0m\u001b[0m\n\u001b[0m\u001b[1;32m     32\u001b[0m   elif 'Sliced checkpoints are not supported' in error_message or (\n\u001b[1;32m     33\u001b[0m       \u001b[0;34m'Data type '\u001b[0m\u001b[0;34m\u001b[0m\u001b[0;34m\u001b[0m\u001b[0m\n",
            "\u001b[0;31mNotFoundError\u001b[0m: Unsuccessful TensorSliceReader constructor: Failed to find any matching files for training/cp-0014.ckpt"
          ]
        }
      ],
      "source": [
        "# Load a trained model from the 14th checkpoint\n",
        "model = baseline_model()\n",
        "model.load_weights(\"training/cp-0014.ckpt\")\n",
        "\n",
        "predictions = model.predict(X_test)\n",
        "predictions = np.argmax(predictions, axis=-1)\n",
        "\n",
        "accuracy_score(predictions,correct_values)*100 #checking its accuracy"
      ]
    },
    {
      "cell_type": "markdown",
      "metadata": {
        "id": "RxvpFhj7N574"
      },
      "source": [
        "## confusion matrix"
      ]
    },
    {
      "cell_type": "code",
      "execution_count": null,
      "metadata": {
        "id": "PJiTOY3aWjcX"
      },
      "outputs": [],
      "source": [
        "predictions = model.predict(X_test)\n",
        "predictions = np.argmax(predictions, axis=-1)\n"
      ]
    },
    {
      "cell_type": "code",
      "source": [
        "predictions[0:10]"
      ],
      "metadata": {
        "id": "jgjVse1F0oo7"
      },
      "execution_count": null,
      "outputs": []
    },
    {
      "cell_type": "code",
      "source": [
        "confusion_matrix(predictions,correct_values) #obtaining a confusion matrix"
      ],
      "metadata": {
        "id": "bnfNQUBf0uf3"
      },
      "execution_count": null,
      "outputs": []
    }
  ],
  "metadata": {
    "accelerator": "GPU",
    "colab": {
      "provenance": []
    },
    "kernelspec": {
      "display_name": "Python 3",
      "language": "python",
      "name": "python3"
    },
    "language_info": {
      "codemirror_mode": {
        "name": "ipython",
        "version": 3
      },
      "file_extension": ".py",
      "mimetype": "text/x-python",
      "name": "python",
      "nbconvert_exporter": "python",
      "pygments_lexer": "ipython3",
      "version": "3.9.2"
    }
  },
  "nbformat": 4,
  "nbformat_minor": 0
}